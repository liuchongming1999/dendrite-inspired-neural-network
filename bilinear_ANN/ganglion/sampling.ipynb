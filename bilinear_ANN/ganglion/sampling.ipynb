{
 "cells": [
  {
   "cell_type": "code",
   "execution_count": 1,
   "metadata": {},
   "outputs": [
    {
     "name": "stderr",
     "output_type": "stream",
     "text": [
      "Warning: no DISPLAY environment variable.\n",
      "--No graphics will be displayed.\n"
     ]
    }
   ],
   "source": [
    "from neuron import h, gui\n",
    "import plotly\n",
    "import matplotlib.pyplot as plt\n",
    "import numpy as np\n",
    "import seaborn as sns\n",
    "import pickle\n",
    "import plotly\n",
    "from scipy.optimize import leastsq\n",
    "plt.rcParams['font.size']=15"
   ]
  },
  {
   "cell_type": "code",
   "execution_count": 2,
   "metadata": {},
   "outputs": [
    {
     "name": "stdout",
     "output_type": "stream",
     "text": [
      "/home/mjy/project/Bilinear_Network/sheasbyfohlmeister1999\n",
      "capump.mod spike.mod\n",
      "capump.mod spike.mod\n",
      " -> \u001b[32mCompiling\u001b[0m mod_func.c\n",
      " -> \u001b[32mNMODL\u001b[0m capump.mod\n",
      "/home/mjy/anaconda/envs/pytorch/bin/x86_64-conda_cos6-linux-gnu-cc -O2   -I. -I..   -I/home/mjy/anaconda/envs/pytorch/lib/python3.7/site-packages/neuron/.data/include  -I/nrnwheel/openmpi/include -fPIC -c mod_func.c -o mod_func.o\n",
      "MODLUNIT=/home/mjy/anaconda/envs/pytorch/lib/python3.7/site-packages/neuron/.data/share/nrn/lib/nrnunits.lib \\\n",
      "  /home/mjy/anaconda/envs/pytorch/lib/python3.7/site-packages/neuron/.data/bin/nocmodl capump.mod\n",
      " -> \u001b[32mNMODL\u001b[0m spike.mod\n",
      "MODLUNIT=/home/mjy/anaconda/envs/pytorch/lib/python3.7/site-packages/neuron/.data/share/nrn/lib/nrnunits.lib \\\n",
      "  /home/mjy/anaconda/envs/pytorch/lib/python3.7/site-packages/neuron/.data/bin/nocmodl spike.mod\n",
      "Translating capump.mod into capump.c\n",
      "Translating spike.mod into spike.c\n",
      "Notice: VERBATIM blocks are not thread safe\n",
      "Notice: This mechanism cannot be used with CVODE\n",
      "Warning: Default 1.8 of PARAMETER cao will be ignored and set by NEURON.\n",
      "Warning: Default 0.0001 of PARAMETER cai will be ignored and set by NEURON.\n",
      "Warning: Default -75 of PARAMETER ek will be ignored and set by NEURON.\n",
      "Warning: Default 35 of PARAMETER ena will be ignored and set by NEURON.\n",
      "Thread Safe\n",
      " -> \u001b[32mCompiling\u001b[0m x86_64/capump.c\n",
      "(cd .. ; /home/mjy/anaconda/envs/pytorch/bin/x86_64-conda_cos6-linux-gnu-cc -O2   -I. -I..   -I/home/mjy/anaconda/envs/pytorch/lib/python3.7/site-packages/neuron/.data/include  -I/nrnwheel/openmpi/include -fPIC -c x86_64/capump.c -o x86_64/capump.o)\n",
      " -> \u001b[32mCompiling\u001b[0m x86_64/spike.c\n",
      "(cd .. ; /home/mjy/anaconda/envs/pytorch/bin/x86_64-conda_cos6-linux-gnu-cc -O2   -I. -I..   -I/home/mjy/anaconda/envs/pytorch/lib/python3.7/site-packages/neuron/.data/include  -I/nrnwheel/openmpi/include -fPIC -c x86_64/spike.c -o x86_64/spike.o)\n",
      " => \u001b[32mLINKING\u001b[0m library x86_64/libnrnmech.so Mod files: capump.mod spike.mod\n",
      "(cd .. ; /home/mjy/anaconda/envs/pytorch/bin/x86_64-conda_cos6-linux-gnu-c++ -O2 -DVERSION_INFO='7.8.1.1' -std=c++11 -shared -fPIC  -I /home/mjy/anaconda/envs/pytorch/lib/python3.7/site-packages/neuron/.data/include -o x86_64/libnrnmech.so -Wl,-soname,libnrnmech.so \\\n",
      "  x86_64/mod_func.o x86_64/capump.o x86_64/spike.o -L/home/mjy/anaconda/envs/pytorch/lib/python3.7/site-packages/neuron/.data/lib -lnrniv -Wl,-rpath,/home/mjy/anaconda/envs/pytorch/lib/python3.7/site-packages/neuron/.data/lib   )\n",
      "(cd .. ; rm -f x86_64/.libs/libnrnmech.so ; mkdir -p x86_64/.libs ; ln -s ../../x86_64/libnrnmech.so x86_64/.libs/libnrnmech.so)\n",
      "Successfully created x86_64/special\n"
     ]
    }
   ],
   "source": [
    "!nrnivmodl"
   ]
  },
  {
   "cell_type": "code",
   "execution_count": 3,
   "metadata": {},
   "outputs": [
    {
     "name": "stdout",
     "output_type": "stream",
     "text": [
      "\t1 \n",
      "\t1 \n",
      "\t1 \n",
      "\t0 \n",
      "\t0 \n",
      "\t0 \n",
      "\t0 \n",
      "\t0 \n",
      "\t0 \n",
      "\t1 \n",
      "\t0 \n",
      "\t0 \n",
      "\t0 \n",
      "\t0 \n",
      "\t0 \n",
      "\t0 \n",
      "\t0 \n",
      "\t0 \n",
      "\t0 \n",
      "\t0 \n",
      "\t0 \n",
      "\t0 \n",
      "\t0 \n",
      "\t0 \n",
      "\t0 \n",
      "\t0 \n",
      "\t0 \n",
      "\t0 \n",
      "\t0 \n",
      "\t0 \n",
      "\t0 \n",
      "\t0 \n",
      "\t0 \n",
      "\t0 \n",
      "\t0 \n",
      "\t0 \n",
      "\t0 \n",
      "\t0 \n",
      "\t0 \n",
      "\t0 \n",
      "\t0 \n",
      "\t0 \n",
      "\t0 \n",
      "\t0 \n",
      "\t0 \n",
      "\t0 \n",
      "\t0 \n",
      "\t0 \n",
      "\t0 \n",
      "\t0 \n",
      "\t0 \n",
      "\t0 \n",
      "\t0 \n",
      "\t0 \n",
      "\t0 \n",
      "\t0 \n",
      "\t0 \n",
      "\t0 \n",
      "\t0 \n",
      "\t0 \n",
      "\t0 \n",
      "\t0 \n",
      "\t0 \n",
      "\t0 \n",
      "\t0 \n",
      "\t0 \n",
      "\t0 \n",
      "\t0 \n",
      "\t0 \n",
      "\t0 \n",
      "\t0 \n",
      "\t0 \n",
      "\t0 \n",
      "\t0 \n",
      "\t0 \n",
      "\t0 \n",
      "\t0 \n",
      "\t0 \n",
      "\t0 \n",
      "\t0 \n",
      "\t1 \n",
      "\t1 \n",
      "\t0 \n",
      "\t0 \n",
      "\t0 \n",
      "\t0 \n",
      "\t0 \n",
      "\t0 \n",
      "\t0 \n",
      "\t0 \n",
      "\t0 \n",
      "\t0 \n",
      "\t1 \n",
      "\t0 \n",
      "\t0 \n",
      "\t0 \n",
      "\t0 \n",
      "\t1 \n",
      "loading: SmallSimple/CTT1209B/ctt1209b\n",
      "\t1 \n"
     ]
    },
    {
     "data": {
      "text/plain": [
       "1.0"
      ]
     },
     "execution_count": 3,
     "metadata": {},
     "output_type": "execute_result"
    }
   ],
   "source": [
    "h.load_file('mosinit.hoc')"
   ]
  },
  {
   "cell_type": "code",
   "execution_count": 4,
   "metadata": {},
   "outputs": [],
   "source": [
    "for sec in h.allsec():\n",
    "    sec.gnabar_spike = 0.05\n",
    "    sec.gkbar_spike = 0.018\n",
    "# h.soma.gnabar_spike = 0.05\n",
    "# h.soma.gkbar_spike = 0.018"
   ]
  },
  {
   "cell_type": "code",
   "execution_count": 53,
   "metadata": {},
   "outputs": [
    {
     "data": {
      "text/plain": [
       "(0.05, 0.018)"
      ]
     },
     "execution_count": 53,
     "metadata": {},
     "output_type": "execute_result"
    }
   ],
   "source": [
    "h.soma.gnabar_spike, h.soma.gkbar_spike"
   ]
  },
  {
   "cell_type": "code",
   "execution_count": 4,
   "metadata": {},
   "outputs": [],
   "source": [
    "def change_to_pas():\n",
    "    for sec in h.allsec():\n",
    "        #if sec != h.soma:\n",
    "            sec.gnabar_spike = 0\n",
    "            sec.gkbar_spike = 0\n",
    "            sec.gcabar_spike = 0\n",
    "            sec.gabar_spike = 0\n",
    "            sec.gkcbar_spike = 0\n",
    "change_to_pas()"
   ]
  },
  {
   "cell_type": "code",
   "execution_count": 4,
   "metadata": {},
   "outputs": [],
   "source": [
    "for sec in h.allsec():\n",
    "    if sec != h.soma:\n",
    "        sec.Ra = 500\n",
    "        sec.cm = 0.5"
   ]
  },
  {
   "cell_type": "code",
   "execution_count": 5,
   "metadata": {},
   "outputs": [],
   "source": [
    "modi_dend = [h.dend1[0], h.dend1[1], h.dend1[4], h.dend2[0], h.dend2[1], h.dend2[4]]\n",
    "for sec in modi_dend:\n",
    "    sec.L *= 4"
   ]
  },
  {
   "cell_type": "code",
   "execution_count": 6,
   "metadata": {},
   "outputs": [],
   "source": [
    "input_list = [h.dend1[2], h.dend1[3], h.dend1[5], h.dend1[6], h.dend2[2], h.dend2[3], h.dend2[6], h.dend2[7], h.dend2[8]]\n",
    "#input_list = [h.dend1[2], h.dend1[3], h.dend1[1], h.dend1[0], h.dend2[6], h.dend2[7], h.dend2[5], h.dend2[4], h.dend2[0]]"
   ]
  },
  {
   "cell_type": "code",
   "execution_count": 7,
   "metadata": {},
   "outputs": [],
   "source": [
    "ic = h.IClamp[0]\n",
    "ic.amp = 0\n",
    "\n",
    "ns0 = h.NetStim()\n",
    "ns1 = h.NetStim()\n",
    "ns2 = h.NetStim()\n",
    "ns3 = h.NetStim()\n",
    "ns4 = h.NetStim()\n",
    "ns5 = h.NetStim()\n",
    "ns6 = h.NetStim()\n",
    "ns7 = h.NetStim()\n",
    "ns8 = h.NetStim()\n",
    "\n",
    "#exi\n",
    "syn0 = h.ExpSyn(input_list[0](1))\n",
    "syn1 = h.ExpSyn(input_list[1](1))\n",
    "syn2 = h.ExpSyn(input_list[2](1))\n",
    "syn3 = h.ExpSyn(input_list[3](1))\n",
    "syn4 = h.ExpSyn(input_list[4](1))\n",
    "syn5 = h.ExpSyn(input_list[5](1))\n",
    "syn6 = h.ExpSyn(input_list[6](1))\n",
    "syn7 = h.ExpSyn(input_list[7](1))\n",
    "syn8 = h.ExpSyn(input_list[8](1))\n",
    "\n",
    "# syn0 = h.ExpSyn(h.dend2[6](1))\n",
    "# syn1 = h.ExpSyn(h.dend2[7](1))\n",
    "# syn2 = h.ExpSyn(h.dend2[6](0.5))\n",
    "# syn3 = h.ExpSyn(h.dend2[7](0.5))\n",
    "# syn4 = h.ExpSyn(h.dend2[5](1))\n",
    "# syn5 = h.ExpSyn(h.dend2[5](0.5))\n",
    "# syn6 = h.ExpSyn(h.dend2[4](1))\n",
    "# syn7 = h.ExpSyn(h.dend2[4](0.5))\n",
    "# syn8 = h.ExpSyn(h.dend2[0](1))\n",
    "\n",
    "nc0 = h.NetCon(ns0, syn0)\n",
    "nc1 = h.NetCon(ns1, syn1)\n",
    "nc2 = h.NetCon(ns2, syn2)\n",
    "nc3 = h.NetCon(ns3, syn3)\n",
    "nc4 = h.NetCon(ns4, syn4)\n",
    "nc5 = h.NetCon(ns5, syn5)\n",
    "nc6 = h.NetCon(ns6, syn6)\n",
    "nc7 = h.NetCon(ns7, syn7)\n",
    "nc8 = h.NetCon(ns8, syn8)"
   ]
  },
  {
   "cell_type": "code",
   "execution_count": 8,
   "metadata": {},
   "outputs": [],
   "source": [
    "ns_list = [ns0, ns1, ns2, ns3, ns4, ns5, ns6, ns7, ns8]\n",
    "syn_list = [syn0, syn1, syn2, syn3, syn4, syn5, syn6, syn7, syn8]\n",
    "syne_list = [syn0, syn2, syn4, syn6, syn8]\n",
    "syni_list = [syn1, syn3, syn5, syn7]\n",
    "nc_list = [nc0, nc1, nc2, nc3, nc4, nc5, nc6, nc7, nc8]\n",
    "nce_list = [nc0, nc2, nc4, nc6, nc8]\n",
    "nci_list = [nc1, nc3, nc5, nc7]\n",
    "branch_points = [h.dend1[1], h.dend1[0], h.dend1[4], h.dend2[1], h.dend2[0], h.dend2[4], h.dend2[5]]"
   ]
  },
  {
   "cell_type": "code",
   "execution_count": 17,
   "metadata": {},
   "outputs": [],
   "source": [
    "for i in range(len(input_list)):\n",
    "    ns_list[i].start = 0\n",
    "    ns_list[i].number = 800\n",
    "    ns_list[i].interval = 10\n",
    "    ns_list[i].noise = 1\n",
    "    nc_list[i].delay = 0\n",
    "# E\n",
    "for i in range(len(input_list)):\n",
    "    # syn_list[i].tau1 = 0.1\n",
    "    # syn_list[i].tau2 = 2\n",
    "    syn_list[i].e = 100\n",
    "    syn_list[i].tau = 7\n",
    "    # if i % 2 == 1:\n",
    "    #     syn_list[i].tau = 0.5\n",
    "    #     nc_list[i].weight[0] = 0.0005\n",
    "    # else:\n",
    "    #     syn_list[i].tau = 7\n",
    "    #     nc_list[i].weight[0] = 0.00003\n",
    "    if i == 0:\n",
    "        nc_list[i].weight[0] = 0.000003\n",
    "    else:\n",
    "        nc_list[i].weight[0] = 0.000003\n",
    "# # EI\n",
    "# for i in range(len(syne_list)):\n",
    "#     syne_list[i].tau = 3\n",
    "#     syne_list[i].e = 100\n",
    "\n",
    "# for i in range(len(syni_list)):\n",
    "#     syni_list[i].tau = 3\n",
    "#     syni_list[i].e = -80\n",
    "\n",
    "# for i in range(len(nce_list)):\n",
    "#     nce_list[i].weight[0] = 0.00002\n",
    "# for i in range(len(nci_list)):\n",
    "#     nci_list[i].weight[0] = 0.0001"
   ]
  },
  {
   "cell_type": "code",
   "execution_count": 20,
   "metadata": {},
   "outputs": [
    {
     "data": {
      "text/plain": [
       "Text(0, 0.5, 'MP(mV)')"
      ]
     },
     "execution_count": 20,
     "metadata": {},
     "output_type": "execute_result"
    },
    {
     "data": {
      "image/png": "[encoded data removed]",
      "text/plain": [
       "<Figure size 600x400 with 1 Axes>"
      ]
     },
     "metadata": {},
     "output_type": "display_data"
    }
   ],
   "source": [
    "t = h.Vector().record(h._ref_t)\n",
    "v = h.Vector().record(h.soma(0.5)._ref_v)\n",
    "v2 = h.Vector().record(h.dend1[4](0.5)._ref_v)\n",
    "ina = h.Vector().record(h.soma(0.5)._ref_ina)\n",
    "ik = h.Vector().record(h.soma(0.5)._ref_ik)\n",
    "ica = h.Vector().record(h.soma(0.5)._ref_ica)\n",
    "vec = h.Vector()\n",
    "netcon = h.NetCon(h.soma(0.5)._ref_v, None)\n",
    "netcon.record(vec)\n",
    "tvec0 = h.Vector()\n",
    "nc1.record(tvec0)\n",
    "h.finitialize(-62.5)\n",
    "h.continuerun(6000)\n",
    "v9 = np.array(v)[::10]\n",
    "plt.figure(figsize=(6,4))\n",
    "plt.plot(t, v, c='black')\n",
    "plt.xlabel('t(ms)')\n",
    "plt.ylabel('MP(mV)')\n",
    "#plt.axhline(y=-50, ls='--', c='r')\n",
    "#plt.savefig('figure/suprathreshold_trace',bbox_inches='tight')\n",
    "#plt.plot(t, v2, label='dend')\n",
    "#plt.legend()"
   ]
  },
  {
   "cell_type": "code",
   "execution_count": 212,
   "metadata": {},
   "outputs": [
    {
     "data": {
      "text/plain": [
       "[<matplotlib.lines.Line2D at 0x7f264338d090>]"
      ]
     },
     "execution_count": 212,
     "metadata": {},
     "output_type": "execute_result"
    },
    {
     "data": {
      "image/png": "[encoded data removed]",
      "text/plain": [
       "<Figure size 432x288 with 1 Axes>"
      ]
     },
     "metadata": {
      "needs_background": "light"
     },
     "output_type": "display_data"
    }
   ],
   "source": [
    "plt.plot(np.array(ina)[4200:5200])\n",
    "plt.plot(np.array(ik)[4200:5200])"
   ]
  },
  {
   "cell_type": "code",
   "execution_count": 221,
   "metadata": {},
   "outputs": [
    {
     "data": {
      "text/plain": [
       "0.002884792775968604"
      ]
     },
     "execution_count": 221,
     "metadata": {},
     "output_type": "execute_result"
    }
   ],
   "source": [
    "ik_np[420]"
   ]
  },
  {
   "cell_type": "code",
   "execution_count": 218,
   "metadata": {},
   "outputs": [],
   "source": [
    "ina_np[np.where(ina_np > -0.001802293082092216)] = -0.001802293082092216"
   ]
  },
  {
   "cell_type": "code",
   "execution_count": 222,
   "metadata": {},
   "outputs": [],
   "source": [
    "ik_np[np.where(ik_np < 0.002884792775968604)] = 0.002884792775968604"
   ]
  },
  {
   "cell_type": "code",
   "execution_count": 223,
   "metadata": {},
   "outputs": [
    {
     "data": {
      "text/plain": [
       "[<matplotlib.lines.Line2D at 0x7f264320e750>]"
      ]
     },
     "execution_count": 223,
     "metadata": {},
     "output_type": "execute_result"
    },
    {
     "data": {
      "image/png": "[encoded data removed]",
      "text/plain": [
       "<Figure size 432x288 with 1 Axes>"
      ]
     },
     "metadata": {
      "needs_background": "light"
     },
     "output_type": "display_data"
    }
   ],
   "source": [
    "plt.plot(ik_np[400:600])"
   ]
  },
  {
   "cell_type": "code",
   "execution_count": 213,
   "metadata": {},
   "outputs": [],
   "source": [
    "ina_np = np.array(ina)[4200:5200]\n",
    "ik_np = np.array(ik)[4200:5200]"
   ]
  },
  {
   "cell_type": "code",
   "execution_count": 188,
   "metadata": {},
   "outputs": [],
   "source": [
    "ina_np[50:360] = -0.0005\n",
    "ik_np[50:360] = -0.0008"
   ]
  },
  {
   "cell_type": "code",
   "execution_count": 70,
   "metadata": {},
   "outputs": [],
   "source": [
    "v_np = np.array(v)"
   ]
  },
  {
   "cell_type": "code",
   "execution_count": 72,
   "metadata": {},
   "outputs": [
    {
     "data": {
      "text/plain": [
       "8751"
      ]
     },
     "execution_count": 72,
     "metadata": {},
     "output_type": "execute_result"
    }
   ],
   "source": [
    "np.argmax(v_np[:10000])"
   ]
  },
  {
   "cell_type": "code",
   "execution_count": 139,
   "metadata": {},
   "outputs": [
    {
     "data": {
      "image/png": "[encoded data removed]",
      "text/plain": [
       "<Figure size 432x288 with 1 Axes>"
      ]
     },
     "metadata": {
      "needs_background": "light"
     },
     "output_type": "display_data"
    }
   ],
   "source": [
    "t = np.linspace(0, 1000, 10000)\n",
    "plt.plot(t, v_np[:10000])\n",
    "plt.xlabel('time[ms]')\n",
    "plt.ylabel('Voltage [mV]')\n",
    "plt.savefig('figure/my_tune_trace', bbox_inches='tight')"
   ]
  },
  {
   "cell_type": "code",
   "execution_count": 204,
   "metadata": {},
   "outputs": [],
   "source": [
    "ina_np[361] = -0.001\n",
    "ik_np[361] = 0.0008"
   ]
  },
  {
   "cell_type": "code",
   "execution_count": 205,
   "metadata": {},
   "outputs": [
    {
     "data": {
      "text/plain": [
       "[<matplotlib.lines.Line2D at 0x7f264349ad10>]"
      ]
     },
     "execution_count": 205,
     "metadata": {},
     "output_type": "execute_result"
    },
    {
     "data": {
      "image/png": "[encoded data removed]",
      "text/plain": [
       "<Figure size 432x288 with 1 Axes>"
      ]
     },
     "metadata": {
      "needs_background": "light"
     },
     "output_type": "display_data"
    }
   ],
   "source": [
    "plt.plot(ina_np[50:])\n",
    "plt.plot(ik_np[50:])"
   ]
  },
  {
   "cell_type": "code",
   "execution_count": 164,
   "metadata": {},
   "outputs": [
    {
     "data": {
      "text/plain": [
       "10001"
      ]
     },
     "execution_count": 164,
     "metadata": {},
     "output_type": "execute_result"
    }
   ],
   "source": [
    "len(np.array(ik))"
   ]
  },
  {
   "cell_type": "code",
   "execution_count": 162,
   "metadata": {},
   "outputs": [
    {
     "ename": "ValueError",
     "evalue": "zero-size array to reduction operation minimum which has no identity",
     "output_type": "error",
     "traceback": [
      "\u001b[0;31m---------------------------------------------------------------------------\u001b[0m",
      "\u001b[0;31mValueError\u001b[0m                                Traceback (most recent call last)",
      "\u001b[0;32m<ipython-input-162-f0492bd54151>\u001b[0m in \u001b[0;36m<module>\u001b[0;34m\u001b[0m\n\u001b[0;32m----> 1\u001b[0;31m \u001b[0mnp\u001b[0m\u001b[0;34m.\u001b[0m\u001b[0mmin\u001b[0m\u001b[0;34m(\u001b[0m\u001b[0mnp\u001b[0m\u001b[0;34m.\u001b[0m\u001b[0marray\u001b[0m\u001b[0;34m(\u001b[0m\u001b[0mik\u001b[0m\u001b[0;34m)\u001b[0m\u001b[0;34m[\u001b[0m\u001b[0;36m16400\u001b[0m\u001b[0;34m:\u001b[0m\u001b[0;36m16900\u001b[0m\u001b[0;34m]\u001b[0m\u001b[0;34m*\u001b[0m\u001b[0;36m10\u001b[0m\u001b[0;34m)\u001b[0m\u001b[0;34m\u001b[0m\u001b[0;34m\u001b[0m\u001b[0m\n\u001b[0m",
      "\u001b[0;32m<__array_function__ internals>\u001b[0m in \u001b[0;36mamin\u001b[0;34m(*args, **kwargs)\u001b[0m\n",
      "\u001b[0;32m~/anaconda/envs/pytorch/lib/python3.7/site-packages/numpy/core/fromnumeric.py\u001b[0m in \u001b[0;36mamin\u001b[0;34m(a, axis, out, keepdims, initial, where)\u001b[0m\n\u001b[1;32m   2829\u001b[0m     \"\"\"\n\u001b[1;32m   2830\u001b[0m     return _wrapreduction(a, np.minimum, 'min', axis, None, out,\n\u001b[0;32m-> 2831\u001b[0;31m                           keepdims=keepdims, initial=initial, where=where)\n\u001b[0m\u001b[1;32m   2832\u001b[0m \u001b[0;34m\u001b[0m\u001b[0m\n\u001b[1;32m   2833\u001b[0m \u001b[0;34m\u001b[0m\u001b[0m\n",
      "\u001b[0;32m~/anaconda/envs/pytorch/lib/python3.7/site-packages/numpy/core/fromnumeric.py\u001b[0m in \u001b[0;36m_wrapreduction\u001b[0;34m(obj, ufunc, method, axis, dtype, out, **kwargs)\u001b[0m\n\u001b[1;32m     85\u001b[0m                 \u001b[0;32mreturn\u001b[0m \u001b[0mreduction\u001b[0m\u001b[0;34m(\u001b[0m\u001b[0maxis\u001b[0m\u001b[0;34m=\u001b[0m\u001b[0maxis\u001b[0m\u001b[0;34m,\u001b[0m \u001b[0mout\u001b[0m\u001b[0;34m=\u001b[0m\u001b[0mout\u001b[0m\u001b[0;34m,\u001b[0m \u001b[0;34m**\u001b[0m\u001b[0mpasskwargs\u001b[0m\u001b[0;34m)\u001b[0m\u001b[0;34m\u001b[0m\u001b[0;34m\u001b[0m\u001b[0m\n\u001b[1;32m     86\u001b[0m \u001b[0;34m\u001b[0m\u001b[0m\n\u001b[0;32m---> 87\u001b[0;31m     \u001b[0;32mreturn\u001b[0m \u001b[0mufunc\u001b[0m\u001b[0;34m.\u001b[0m\u001b[0mreduce\u001b[0m\u001b[0;34m(\u001b[0m\u001b[0mobj\u001b[0m\u001b[0;34m,\u001b[0m \u001b[0maxis\u001b[0m\u001b[0;34m,\u001b[0m \u001b[0mdtype\u001b[0m\u001b[0;34m,\u001b[0m \u001b[0mout\u001b[0m\u001b[0;34m,\u001b[0m \u001b[0;34m**\u001b[0m\u001b[0mpasskwargs\u001b[0m\u001b[0;34m)\u001b[0m\u001b[0;34m\u001b[0m\u001b[0;34m\u001b[0m\u001b[0m\n\u001b[0m\u001b[1;32m     88\u001b[0m \u001b[0;34m\u001b[0m\u001b[0m\n\u001b[1;32m     89\u001b[0m \u001b[0;34m\u001b[0m\u001b[0m\n",
      "\u001b[0;31mValueError\u001b[0m: zero-size array to reduction operation minimum which has no identity"
     ]
    }
   ],
   "source": [
    "np.min(np.array(ik)[16400:16900]*10)"
   ]
  },
  {
   "cell_type": "code",
   "execution_count": 166,
   "metadata": {},
   "outputs": [
    {
     "data": {
      "text/plain": [
       "[<matplotlib.lines.Line2D at 0x7f26440b8b50>]"
      ]
     },
     "execution_count": 166,
     "metadata": {},
     "output_type": "execute_result"
    },
    {
     "data": {
      "image/png": "[encoded data removed]",
      "text/plain": [
       "<Figure size 432x288 with 1 Axes>"
      ]
     },
     "metadata": {
      "needs_background": "light"
     },
     "output_type": "display_data"
    }
   ],
   "source": [
    "plt.plot(t, v_np[8241:9241])"
   ]
  },
  {
   "cell_type": "code",
   "execution_count": 228,
   "metadata": {},
   "outputs": [
    {
     "data": {
      "text/plain": [
       "0.028847927759686042"
      ]
     },
     "execution_count": 228,
     "metadata": {},
     "output_type": "execute_result"
    }
   ],
   "source": [
    "np.min(ik_np * 10)"
   ]
  },
  {
   "cell_type": "code",
   "execution_count": 232,
   "metadata": {},
   "outputs": [],
   "source": [
    "ik_np[28*20:] = 0.028847927759686042/10\n",
    "ina_np[28*20:] = -0.01802293082092216/10"
   ]
  },
  {
   "cell_type": "code",
   "execution_count": 231,
   "metadata": {},
   "outputs": [
    {
     "data": {
      "text/plain": [
       "[<matplotlib.lines.Line2D at 0x7f2642de9750>]"
      ]
     },
     "execution_count": 231,
     "metadata": {},
     "output_type": "execute_result"
    },
    {
     "data": {
      "image/png": "[encoded data removed]",
      "text/plain": [
       "<Figure size 432x288 with 1 Axes>"
      ]
     },
     "metadata": {
      "needs_background": "light"
     },
     "output_type": "display_data"
    }
   ],
   "source": [
    "plt.plot(ik_np[28*20:])"
   ]
  },
  {
   "cell_type": "code",
   "execution_count": 240,
   "metadata": {},
   "outputs": [
    {
     "data": {
      "image/png": "[encoded data removed]",
      "text/plain": [
       "<Figure size 720x864 with 2 Axes>"
      ]
     },
     "metadata": {
      "needs_background": "light"
     },
     "output_type": "display_data"
    }
   ],
   "source": [
    "idx = 0\n",
    "t = np.linspace(850, 900, 1000)\n",
    "t2 = np.linspace(850, 900, 925)\n",
    "fig, axs = plt.subplots(2,figsize=(10,12),sharex=True)\n",
    "axs[0].plot(t, v_np[8241:9241])\n",
    "axs[0].set_ylabel('Voltage[mV]')\n",
    "#axs[0].legend(loc=(0.65,0.01))\n",
    "axs[1].plot(t2, ina_np[:925] * 13+0.01802293082092216/10*13, label='ina')\n",
    "axs[1].plot(t2, ik_np[:925] * 10-0.028847927759686042, label='ik')\n",
    "axs[1].set_ylim(-0.6, 0.6)\n",
    "axs[1].set_ylabel('I[nA]')\n",
    "axs[1].set_xlabel('time[ms]')\n",
    "axs[1].legend(loc=(0.65,0.01))\n",
    "plt.savefig('figure/my_example_tune_trace_zoom.png', bbox_inches='tight')"
   ]
  },
  {
   "cell_type": "code",
   "execution_count": 48,
   "metadata": {},
   "outputs": [],
   "source": [
    "with open('data/Vsep_single_pulse_tau7_1000ms.p', 'rb') as fo:\n",
    "    Vsep1000 = pickle.load(fo, encoding='bytes')\n",
    "\n",
    "Vsep1000 += 62.5\n",
    "def Ker(x,tau):\n",
    "    return np.heaviside(x, 0)*(x)/tau*np.exp(-(x)/tau)\n",
    "Nsyn = 9\n",
    "def model(X, K):\n",
    "    # X is one sample here\n",
    "    Y = np.zeros(time_dur)\n",
    "    L = np.zeros((Nsyn, time_dur))\n",
    "    for i in range(Nsyn):\n",
    "        L[i] = np.convolve(X[i], Vsep1000[i])[:time_dur]\n",
    "        Y += L[i]\n",
    "        for j in range(i+1):\n",
    "            Y += -K[int(i*(i+1)/2)+j] * L[i] * L[j]\n",
    "    return Y\n",
    "\n",
    "X = np.zeros((9, 1001))\n",
    "X[0,0] = 1\n",
    "X[0,30] = 1\n",
    "K = np.array([0.05, \n",
    "            0.01, 0.01, \n",
    "            0.01, 0.01, 0.01, \n",
    "            0.01, 0.01, 0.01, 0.01, \n",
    "            0.01, 0.01, 0.01, 0.01, 0.01, \n",
    "            0.01, 0.01, 0.01, 0.01, 0.01, 0.01, \n",
    "            0.01, 0.01, 0.01, 0.01, 0.01, 0.01, 0.01, \n",
    "            0.01, 0.01, 0.01, 0.01, 0.01, 0.01, 0.01, 0.01,\n",
    "            0.01, 0.01, 0.01, 0.01, 0.01, 0.01, 0.01, 0.01, 0.01])"
   ]
  },
  {
   "cell_type": "code",
   "execution_count": 49,
   "metadata": {},
   "outputs": [
    {
     "data": {
      "text/plain": [
       "<matplotlib.legend.Legend at 0x7fa8c747ba50>"
      ]
     },
     "execution_count": 49,
     "metadata": {},
     "output_type": "execute_result"
    },
    {
     "data": {
      "image/png": "[encoded data removed]",
      "text/plain": [
       "<Figure size 432x288 with 1 Axes>"
      ]
     },
     "metadata": {
      "needs_background": "light"
     },
     "output_type": "display_data"
    }
   ],
   "source": [
    "y = model(X, K)\n",
    "plt.plot(y-62.5, label='model')\n",
    "plt.plot(v7, label='real')\n",
    "plt.legend()"
   ]
  },
  {
   "cell_type": "markdown",
   "metadata": {},
   "source": [
    "# Dual-input Sampling"
   ]
  },
  {
   "cell_type": "code",
   "execution_count": 31,
   "metadata": {},
   "outputs": [
    {
     "name": "stdout",
     "output_type": "stream",
     "text": [
      "0\n",
      "---------------\n",
      "test begin\n",
      "0\n"
     ]
    }
   ],
   "source": [
    "tr_num = 10\n",
    "test_num = 10\n",
    "time_dur = 1000\n",
    "tr_ip = []\n",
    "tr_op = np.empty((tr_num, time_dur + 1))\n",
    "test_ip = []\n",
    "test_op = np.empty((test_num, time_dur + 1))\n",
    "\n",
    "for i in range(tr_num):\n",
    "    #interval = np.random.randint(70, 130)\n",
    "    for j in range(len(input_list)):\n",
    "        ns_list[j].start = 0\n",
    "        ns_list[j].number = 30\n",
    "        ns_list[j].interval = 50\n",
    "        ns_list[j].noise = 1\n",
    "        nc_list[j].delay = 0\n",
    "    for j in range(len(input_list)):\n",
    "        syn_list[j].tau = 7\n",
    "        syn_list[j].e = 0\n",
    "        if j == 0 or j == 1:\n",
    "            nc_list[j].weight[0] = 0.00005\n",
    "        else:\n",
    "            nc_list[j].weight[0] = 0.0000\n",
    "    t = h.Vector().record(h._ref_t)\n",
    "    v = h.Vector().record(h.soma(0.5)._ref_v)\n",
    "    tvec0 = h.Vector()\n",
    "    tvec1 = h.Vector()\n",
    "    nc0.record(tvec0)\n",
    "    nc1.record(tvec1)\n",
    "    h.finitialize(-62.5)\n",
    "    h.continuerun(time_dur)\n",
    "    tr_ip.append(np.round(np.array(tvec0), decimals=0))\n",
    "    tr_ip.append(np.round(np.array(tvec1), decimals=0))\n",
    "    tr_op[i] = np.array(v)[::10]\n",
    "    if i % 10 == 0:\n",
    "        print(i)\n",
    "\n",
    "print('---------------')\n",
    "print('test begin')\n",
    "for i in range(test_num):\n",
    "    #interval = np.random.randint(70, 130)\n",
    "    for j in range(len(input_list)):\n",
    "        ns_list[j].start = 0\n",
    "        ns_list[j].number = 30\n",
    "        ns_list[j].interval = 50\n",
    "        ns_list[j].noise = 1\n",
    "        nc_list[j].delay = 0\n",
    "    for j in range(len(input_list)):\n",
    "        syn_list[j].tau = 7\n",
    "        syn_list[j].e = 0\n",
    "        if j == 0 or j == 1:\n",
    "            nc_list[j].weight[0] = 0.00005\n",
    "        else:\n",
    "            nc_list[j].weight[0] = 0.0000\n",
    "    t = h.Vector().record(h._ref_t)\n",
    "    v = h.Vector().record(h.soma(0.5)._ref_v)\n",
    "    tvec0 = h.Vector()\n",
    "    tvec1 = h.Vector()\n",
    "    nc0.record(tvec0)\n",
    "    nc1.record(tvec1)\n",
    "    h.finitialize(-62.5)\n",
    "    h.continuerun(time_dur)\n",
    "    test_ip.append(np.round(np.array(tvec0), decimals=0))\n",
    "    test_ip.append(np.round(np.array(tvec1), decimals=0))\n",
    "    test_op[i] = np.array(v)[::10]\n",
    "    if i % 10 == 0:\n",
    "        print(i)\n",
    "\n",
    "with open('data/training_set_ip_passive_dual_10.p', 'wb') as f:\n",
    "    pickle.dump(tr_ip, f)\n",
    "with open('data/training_set_op_passive_dual_10.p', 'wb') as f:\n",
    "    pickle.dump(tr_op, f) \n",
    "with open('data/testing_set_ip_passive_dual_10.p', 'wb') as f:\n",
    "    pickle.dump(test_ip, f)\n",
    "with open('data/testing_set_op_passive_dual_10.p', 'wb') as f:\n",
    "    pickle.dump(test_op, f)"
   ]
  },
  {
   "cell_type": "markdown",
   "metadata": {},
   "source": [
    "# Vsep sampling"
   ]
  },
  {
   "cell_type": "code",
   "execution_count": 12,
   "metadata": {},
   "outputs": [],
   "source": [
    "time_dur = 200\n",
    "Vsep = np.zeros((9, time_dur+1))\n",
    "for i in range(len(input_list)):\n",
    "    ns_list[i].start = 0\n",
    "    ns_list[i].number = 1\n",
    "    ns_list[i].interval = 50\n",
    "    ns_list[i].noise = 0\n",
    "    nc_list[i].delay = 0\n",
    "for j in range(9):\n",
    "    for i in range(len(input_list)):\n",
    "        if i == j:\n",
    "            nc_list[i].weight[0] = 0.00005\n",
    "        else:\n",
    "            nc_list[i].weight[0] = 0.00000\n",
    "    t = h.Vector().record(h._ref_t)\n",
    "    v = h.Vector().record(h.soma(0.5)._ref_v)\n",
    "    h.finitialize(-62.5)\n",
    "    h.continuerun(time_dur)\n",
    "    Vsep[j] = np.array(v)[::10]"
   ]
  },
  {
   "cell_type": "code",
   "execution_count": 13,
   "metadata": {},
   "outputs": [
    {
     "data": {
      "text/plain": [
       "[<matplotlib.lines.Line2D at 0x7f0f00cac610>]"
      ]
     },
     "execution_count": 13,
     "metadata": {},
     "output_type": "execute_result"
    },
    {
     "data": {
      "image/png": "[encoded data removed]",
      "text/plain": [
       "<Figure size 432x288 with 1 Axes>"
      ]
     },
     "metadata": {
      "needs_background": "light"
     },
     "output_type": "display_data"
    }
   ],
   "source": [
    "plt.plot(Vsep[6])"
   ]
  },
  {
   "cell_type": "code",
   "execution_count": 16,
   "metadata": {},
   "outputs": [],
   "source": [
    "with open('data/Vsep_active.p', 'wb') as f:\n",
    "    pickle.dump(Vsep, f)"
   ]
  },
  {
   "cell_type": "markdown",
   "metadata": {},
   "source": [
    "# Sampling(passive)"
   ]
  },
  {
   "cell_type": "code",
   "execution_count": 22,
   "metadata": {},
   "outputs": [
    {
     "name": "stdout",
     "output_type": "stream",
     "text": [
      "0\n",
      "---------------\n",
      "test begin\n",
      "0\n"
     ]
    }
   ],
   "source": [
    "tr_num = 10\n",
    "test_num = 10\n",
    "time_dur = 6000\n",
    "tr_ip = []\n",
    "tr_op = np.empty((tr_num, time_dur + 1))\n",
    "test_ip = []\n",
    "test_op = np.empty((test_num, time_dur + 1))\n",
    "\n",
    "# E\n",
    "for j in range(len(input_list)):\n",
    "    ns_list[j].start = 0\n",
    "    ns_list[j].number = 800\n",
    "    ns_list[j].interval = 10\n",
    "    ns_list[j].noise = 1\n",
    "    nc_list[j].delay = 0\n",
    "    syn_list[j].e = 100\n",
    "    syn_list[j].tau = 7\n",
    "    nc_list[j].weight[0] = 0.00002\n",
    "    \n",
    "# # EI\n",
    "# for i in range(len(input_list)):\n",
    "#     ns_list[i].start = 0\n",
    "#     ns_list[i].number = 1500\n",
    "#     ns_list[i].interval = 2\n",
    "#     ns_list[i].noise = 1\n",
    "#     nc_list[i].delay = 0\n",
    "\n",
    "# for i in range(len(syne_list)):\n",
    "#     syne_list[i].tau = 3\n",
    "#     syne_list[i].e = 100\n",
    "\n",
    "# for i in range(len(syni_list)):\n",
    "#     syni_list[i].tau = 3\n",
    "#     syni_list[i].e = -80\n",
    "\n",
    "# for i in range(len(nce_list)):\n",
    "#     nce_list[i].weight[0] = 0.00002\n",
    "# for i in range(len(nci_list)):\n",
    "#     nci_list[i].weight[0] = 0.0001\n",
    "\n",
    "for i in range(tr_num):\n",
    "    t = h.Vector().record(h._ref_t)\n",
    "    v = h.Vector().record(h.soma(0.5)._ref_v)\n",
    "    tvec0 = h.Vector()\n",
    "    tvec1 = h.Vector()\n",
    "    tvec2 = h.Vector()\n",
    "    tvec3 = h.Vector()\n",
    "    tvec4 = h.Vector()\n",
    "    tvec5 = h.Vector()\n",
    "    tvec6 = h.Vector()\n",
    "    tvec7 = h.Vector()\n",
    "    tvec8 = h.Vector()\n",
    "    nc0.record(tvec0)\n",
    "    nc1.record(tvec1)\n",
    "    nc2.record(tvec2)\n",
    "    nc3.record(tvec3)\n",
    "    nc4.record(tvec4)\n",
    "    nc5.record(tvec5)\n",
    "    nc6.record(tvec6)\n",
    "    nc7.record(tvec7)\n",
    "    nc8.record(tvec8)\n",
    "    h.finitialize(-62.5)\n",
    "    h.continuerun(time_dur)\n",
    "    tr_ip.append(np.round(np.array(tvec0), decimals=0))\n",
    "    tr_ip.append(np.round(np.array(tvec1), decimals=0))\n",
    "    tr_ip.append(np.round(np.array(tvec2), decimals=0))\n",
    "    tr_ip.append(np.round(np.array(tvec3), decimals=0))\n",
    "    tr_ip.append(np.round(np.array(tvec4), decimals=0))\n",
    "    tr_ip.append(np.round(np.array(tvec5), decimals=0))\n",
    "    tr_ip.append(np.round(np.array(tvec6), decimals=0))\n",
    "    tr_ip.append(np.round(np.array(tvec7), decimals=0))\n",
    "    tr_ip.append(np.round(np.array(tvec8), decimals=0))\n",
    "    tr_op[i] = np.array(v)[::10]\n",
    "    if i % 10 == 0:\n",
    "        print(i)\n",
    "\n",
    "print('---------------')\n",
    "print('test begin')\n",
    "\n",
    "# E\n",
    "for j in range(len(input_list)):\n",
    "    ns_list[j].start = 0\n",
    "    ns_list[j].number = 800\n",
    "    ns_list[j].interval = 10\n",
    "    ns_list[j].noise = 1\n",
    "    nc_list[j].delay = 0\n",
    "    syn_list[j].e = 100\n",
    "    syn_list[j].tau = 7\n",
    "    nc_list[j].weight[0] = 0.00002\n",
    "\n",
    "# # EI\n",
    "# for i in range(len(input_list)):\n",
    "#     ns_list[i].start = 0\n",
    "#     ns_list[i].number = 1500\n",
    "#     ns_list[i].interval = 2\n",
    "#     ns_list[i].noise = 1\n",
    "#     nc_list[i].delay = 0\n",
    "\n",
    "# for i in range(len(syne_list)):\n",
    "#     syne_list[i].tau = 3\n",
    "#     syne_list[i].e = 100\n",
    "\n",
    "# for i in range(len(syni_list)):\n",
    "#     syni_list[i].tau = 3\n",
    "#     syni_list[i].e = -80\n",
    "\n",
    "# for i in range(len(nce_list)):\n",
    "#     nce_list[i].weight[0] = 0.00002\n",
    "# for i in range(len(nci_list)):\n",
    "#     nci_list[i].weight[0] = 0.0001\n",
    "\n",
    "for i in range(test_num):\n",
    "    t = h.Vector().record(h._ref_t)\n",
    "    v = h.Vector().record(h.soma(0.5)._ref_v)\n",
    "    tvec0 = h.Vector()\n",
    "    tvec1 = h.Vector()\n",
    "    tvec2 = h.Vector()\n",
    "    tvec3 = h.Vector()\n",
    "    tvec4 = h.Vector()\n",
    "    tvec5 = h.Vector()\n",
    "    tvec6 = h.Vector()\n",
    "    tvec7 = h.Vector()\n",
    "    tvec8 = h.Vector()\n",
    "    nc0.record(tvec0)\n",
    "    nc1.record(tvec1)\n",
    "    nc2.record(tvec2)\n",
    "    nc3.record(tvec3)\n",
    "    nc4.record(tvec4)\n",
    "    nc5.record(tvec5)\n",
    "    nc6.record(tvec6)\n",
    "    nc7.record(tvec7)\n",
    "    nc8.record(tvec8)\n",
    "    h.finitialize(-62.5)\n",
    "    h.continuerun(time_dur)\n",
    "    test_ip.append(np.round(np.array(tvec0), decimals=0))\n",
    "    test_ip.append(np.round(np.array(tvec1), decimals=0))\n",
    "    test_ip.append(np.round(np.array(tvec2), decimals=0))\n",
    "    test_ip.append(np.round(np.array(tvec3), decimals=0))\n",
    "    test_ip.append(np.round(np.array(tvec4), decimals=0))\n",
    "    test_ip.append(np.round(np.array(tvec5), decimals=0))\n",
    "    test_ip.append(np.round(np.array(tvec6), decimals=0))\n",
    "    test_ip.append(np.round(np.array(tvec7), decimals=0))\n",
    "    test_ip.append(np.round(np.array(tvec8), decimals=0))\n",
    "    test_op[i] = np.array(v)[::10]\n",
    "    if i % 10 == 0:\n",
    "        print(i)\n",
    "\n",
    "with open('data/training_set_ip_temp_6000ms.p', 'wb') as f:\n",
    "    pickle.dump(tr_ip, f)\n",
    "with open('data/training_set_op_temp_6000ms.p', 'wb') as f:\n",
    "    pickle.dump(tr_op, f) \n",
    "with open('data/testing_set_ip_temp_6000ms.p', 'wb') as f:\n",
    "    pickle.dump(test_ip, f)\n",
    "with open('data/testing_set_op_temp_6000ms.p', 'wb') as f:\n",
    "    pickle.dump(test_op, f)"
   ]
  },
  {
   "cell_type": "code",
   "execution_count": 159,
   "metadata": {},
   "outputs": [
    {
     "data": {
      "text/plain": [
       "10941"
      ]
     },
     "execution_count": 159,
     "metadata": {},
     "output_type": "execute_result"
    }
   ],
   "source": [
    "np.argmax(tr_op)"
   ]
  },
  {
   "cell_type": "code",
   "execution_count": null,
   "metadata": {},
   "outputs": [],
   "source": []
  },
  {
   "cell_type": "code",
   "execution_count": 160,
   "metadata": {},
   "outputs": [
    {
     "data": {
      "text/plain": [
       "[<matplotlib.lines.Line2D at 0x7f2644239fd0>]"
      ]
     },
     "execution_count": 160,
     "metadata": {},
     "output_type": "execute_result"
    },
    {
     "data": {
      "image/png": "[encoded data removed]",
      "text/plain": [
       "<Figure size 432x288 with 1 Axes>"
      ]
     },
     "metadata": {
      "needs_background": "light"
     },
     "output_type": "display_data"
    }
   ],
   "source": [
    "plt.plot(tr_op[10])"
   ]
  },
  {
   "cell_type": "markdown",
   "metadata": {},
   "source": [
    "# Sampling(active)"
   ]
  },
  {
   "cell_type": "code",
   "execution_count": 36,
   "metadata": {},
   "outputs": [
    {
     "name": "stdout",
     "output_type": "stream",
     "text": [
      "0\n",
      "---------------\n",
      "test begin\n",
      "0\n"
     ]
    }
   ],
   "source": [
    "tr_num = 10\n",
    "test_num = 10\n",
    "time_dur = 2000\n",
    "tr_ip = []\n",
    "tr_spike_time = []\n",
    "#tr_op = np.empty((tr_num, time_dur*5 + 1))\n",
    "tr_op = np.empty((tr_num, time_dur + 1))\n",
    "test_ip = []\n",
    "test_spike_time = []\n",
    "#test_op = np.empty((test_num, time_dur*5 + 1))\n",
    "test_op = np.empty((test_num, time_dur + 1))\n",
    "\n",
    "for j in range(len(input_list)):\n",
    "    ns_list[j].start = 0\n",
    "    ns_list[j].number = 300\n",
    "    ns_list[j].interval = 10\n",
    "    ns_list[j].noise = 1\n",
    "    nc_list[j].delay = 000\n",
    "for j in range(len(input_list)):\n",
    "    syn_list[j].tau = 7\n",
    "    syn_list[j].e = 100\n",
    "    nc_list[j].weight[0] = 0.001\n",
    "# for i in range(len(input_list)):\n",
    "#     ns_list[i].start = 0\n",
    "#     ns_list[i].number = 30\n",
    "#     ns_list[i].interval = 50\n",
    "#     ns_list[i].noise = 1\n",
    "#     nc_list[i].delay = 1000\n",
    "# for i in range(len(syne_list)):\n",
    "#     syne_list[i].tau = 7\n",
    "#     syne_list[i].e = 0\n",
    "# for i in range(len(syni_list)):\n",
    "#     syni_list[i].tau = 7\n",
    "#     syni_list[i].e = -70\n",
    "# for i in range(len(nce_list)):\n",
    "#     nce_list[i].weight[0] = 0.00003\n",
    "# for i in range(len(nci_list)):\n",
    "#     nci_list[i].weight[0] = 0.0001\n",
    "\n",
    "for i in range(tr_num):\n",
    "    t = h.Vector().record(h._ref_t)\n",
    "    v = h.Vector().record(h.soma(0.5)._ref_v)\n",
    "    spike_vec = h.Vector()\n",
    "    netcon = h.NetCon(h.soma(0.5)._ref_v, None)\n",
    "    netcon.record(spike_vec)\n",
    "    tvec0 = h.Vector()\n",
    "    tvec1 = h.Vector()\n",
    "    tvec2 = h.Vector()\n",
    "    tvec3 = h.Vector()\n",
    "    tvec4 = h.Vector()\n",
    "    tvec5 = h.Vector()\n",
    "    tvec6 = h.Vector()\n",
    "    tvec7 = h.Vector()\n",
    "    tvec8 = h.Vector()\n",
    "    nc0.record(tvec0)\n",
    "    nc1.record(tvec1)\n",
    "    nc2.record(tvec2)\n",
    "    nc3.record(tvec3)\n",
    "    nc4.record(tvec4)\n",
    "    nc5.record(tvec5)\n",
    "    nc6.record(tvec6)\n",
    "    nc7.record(tvec7)\n",
    "    nc8.record(tvec8)\n",
    "    h.finitialize(-67.26)\n",
    "    h.continuerun(time_dur)\n",
    "    tr_ip.append(np.round(np.array(tvec0), decimals=0))\n",
    "    tr_ip.append(np.round(np.array(tvec1), decimals=0))\n",
    "    tr_ip.append(np.round(np.array(tvec2), decimals=0))\n",
    "    tr_ip.append(np.round(np.array(tvec3), decimals=0))\n",
    "    tr_ip.append(np.round(np.array(tvec4), decimals=0))\n",
    "    tr_ip.append(np.round(np.array(tvec5), decimals=0))\n",
    "    tr_ip.append(np.round(np.array(tvec6), decimals=0))\n",
    "    tr_ip.append(np.round(np.array(tvec7), decimals=0))\n",
    "    tr_ip.append(np.round(np.array(tvec8), decimals=0))\n",
    "    tr_spike_time.append(np.round(np.array(spike_vec), decimals=0))\n",
    "    #tr_op[i] = np.array(v)[10000:40010:2]\n",
    "    tr_op[i] = np.array(v)[::10]\n",
    "    if i % 10 == 0:\n",
    "        print(i)\n",
    "\n",
    "print('---------------')\n",
    "print('test begin')\n",
    "\n",
    "for j in range(len(input_list)):\n",
    "    ns_list[j].start = 0\n",
    "    ns_list[j].number = 300\n",
    "    ns_list[j].interval = 10\n",
    "    ns_list[j].noise = 1\n",
    "    nc_list[j].delay = 000\n",
    "for j in range(len(input_list)):\n",
    "    syn_list[j].tau = 7\n",
    "    syn_list[j].e = 100\n",
    "    nc_list[j].weight[0] = 0.001\n",
    "\n",
    "# for i in range(len(input_list)):\n",
    "#     ns_list[i].start = 0\n",
    "#     ns_list[i].number = 30\n",
    "#     ns_list[i].interval = 50\n",
    "#     ns_list[i].noise = 1\n",
    "#     nc_list[i].delay = 1000\n",
    "# for i in range(len(syne_list)):\n",
    "#     syne_list[i].tau = 7\n",
    "#     syne_list[i].e = 0\n",
    "# for i in range(len(syni_list)):\n",
    "#     syni_list[i].tau = 7\n",
    "#     syni_list[i].e = -70\n",
    "# for i in range(len(nce_list)):\n",
    "#     nce_list[i].weight[0] = 0.00003\n",
    "# for i in range(len(nci_list)):\n",
    "#     nci_list[i].weight[0] = 0.0001\n",
    "\n",
    "for i in range(test_num):\n",
    "    t = h.Vector().record(h._ref_t)\n",
    "    v = h.Vector().record(h.soma(0.5)._ref_v)\n",
    "    spike_vec = h.Vector()\n",
    "    netcon = h.NetCon(h.soma(0.5)._ref_v, None)\n",
    "    netcon.record(spike_vec)\n",
    "    tvec0 = h.Vector()\n",
    "    tvec1 = h.Vector()\n",
    "    tvec2 = h.Vector()\n",
    "    tvec3 = h.Vector()\n",
    "    tvec4 = h.Vector()\n",
    "    tvec5 = h.Vector()\n",
    "    tvec6 = h.Vector()\n",
    "    tvec7 = h.Vector()\n",
    "    tvec8 = h.Vector()\n",
    "    nc0.record(tvec0)\n",
    "    nc1.record(tvec1)\n",
    "    nc2.record(tvec2)\n",
    "    nc3.record(tvec3)\n",
    "    nc4.record(tvec4)\n",
    "    nc5.record(tvec5)\n",
    "    nc6.record(tvec6)\n",
    "    nc7.record(tvec7)\n",
    "    nc8.record(tvec8)\n",
    "    h.finitialize(-67.26)\n",
    "    #h.continuerun(1000+time_dur)\n",
    "    h.continuerun(time_dur)\n",
    "    test_ip.append(np.round(np.array(tvec0), decimals=0))\n",
    "    test_ip.append(np.round(np.array(tvec1), decimals=0))\n",
    "    test_ip.append(np.round(np.array(tvec2), decimals=0))\n",
    "    test_ip.append(np.round(np.array(tvec3), decimals=0))\n",
    "    test_ip.append(np.round(np.array(tvec4), decimals=0))\n",
    "    test_ip.append(np.round(np.array(tvec5), decimals=0))\n",
    "    test_ip.append(np.round(np.array(tvec6), decimals=0))\n",
    "    test_ip.append(np.round(np.array(tvec7), decimals=0))\n",
    "    test_ip.append(np.round(np.array(tvec8), decimals=0))\n",
    "    test_spike_time.append(np.round(np.array(spike_vec), decimals=0))\n",
    "    #test_op[i] = np.array(v)[10000:40010:2]\n",
    "    test_op[i] = np.array(v)[::10]\n",
    "    if i % 10 == 0:\n",
    "        print(i)\n",
    "\n",
    "with open('data/training_set_ip_temp_active_Neuron2018.p', 'wb') as f:\n",
    "    pickle.dump(tr_ip, f)\n",
    "with open('data/training_set_op_temp_active_Neuron2018.p', 'wb') as f:\n",
    "    pickle.dump(tr_op, f) \n",
    "with open('data/testing_set_ip_temp_active_Neuron2018.p', 'wb') as f:\n",
    "    pickle.dump(test_ip, f)\n",
    "with open('data/testing_set_op_temp_active_Neuron2018.p', 'wb') as f:\n",
    "    pickle.dump(test_op, f)\n",
    "# with open('data/training_spike_time_10Hz_active_spike_highth_5Hz.p', 'wb') as f:\n",
    "#     pickle.dump(tr_spike_time, f)\n",
    "# with open('data/testing_spike_time_10Hz_active_spike_highth_5Hz.p', 'wb') as f:\n",
    "#     pickle.dump(test_spike_time, f)"
   ]
  },
  {
   "cell_type": "code",
   "execution_count": 35,
   "metadata": {},
   "outputs": [
    {
     "data": {
      "text/plain": [
       "array([ 202.,  576.,  700.,  789., 1070., 1221., 1319., 2328., 2976.])"
      ]
     },
     "execution_count": 35,
     "metadata": {},
     "output_type": "execute_result"
    }
   ],
   "source": [
    "tr_spike_time[4]"
   ]
  },
  {
   "cell_type": "code",
   "execution_count": 37,
   "metadata": {},
   "outputs": [
    {
     "data": {
      "text/plain": [
       "[<matplotlib.lines.Line2D at 0x7f4732f10510>]"
      ]
     },
     "execution_count": 37,
     "metadata": {},
     "output_type": "execute_result"
    },
    {
     "data": {
      "image/png": "[encoded data removed]",
      "text/plain": [
       "<Figure size 432x288 with 1 Axes>"
      ]
     },
     "metadata": {
      "needs_background": "light"
     },
     "output_type": "display_data"
    }
   ],
   "source": [
    "plt.plot(tr_op[4])"
   ]
  },
  {
   "cell_type": "code",
   "execution_count": 88,
   "metadata": {},
   "outputs": [
    {
     "data": {
      "text/plain": [
       "-53.65948322849977"
      ]
     },
     "execution_count": 88,
     "metadata": {},
     "output_type": "execute_result"
    }
   ],
   "source": [
    "np.max(tr_op)"
   ]
  },
  {
   "cell_type": "code",
   "execution_count": 89,
   "metadata": {},
   "outputs": [
    {
     "data": {
      "text/plain": [
       "1001"
      ]
     },
     "execution_count": 89,
     "metadata": {},
     "output_type": "execute_result"
    }
   ],
   "source": [
    "len(tr_op[0])"
   ]
  },
  {
   "cell_type": "code",
   "execution_count": 66,
   "metadata": {},
   "outputs": [
    {
     "data": {
      "text/plain": [
       "[<matplotlib.lines.Line2D at 0x7f7c0366b690>]"
      ]
     },
     "execution_count": 66,
     "metadata": {},
     "output_type": "execute_result"
    },
    {
     "data": {
      "image/png": "[encoded data removed]",
      "text/plain": [
       "<Figure size 432x288 with 1 Axes>"
      ]
     },
     "metadata": {
      "needs_background": "light"
     },
     "output_type": "display_data"
    }
   ],
   "source": [
    "plt.plot(tr_op[0])\n",
    "#plt.axvline(x = 1960)"
   ]
  },
  {
   "cell_type": "code",
   "execution_count": 68,
   "metadata": {},
   "outputs": [
    {
     "data": {
      "text/plain": [
       "array([ 3335.,  5535., 10575., 13315.])"
      ]
     },
     "execution_count": 68,
     "metadata": {},
     "output_type": "execute_result"
    }
   ],
   "source": [
    "tr_spike_time[0] * 5"
   ]
  },
  {
   "cell_type": "code",
   "execution_count": 67,
   "metadata": {},
   "outputs": [
    {
     "data": {
      "text/plain": [
       "array([  40.,   95.,  140.,  364.,  410.,  429.,  434.,  442.,  594.,\n",
       "        645.,  684.,  835.,  868.,  919.,  925.,  949.,  958.,  972.,\n",
       "       1029., 1033., 1073., 1083., 1216., 1224., 1262., 1442., 1515.,\n",
       "       1614., 1855., 1920., 1924., 1939., 2076., 2092., 2099., 2162.,\n",
       "       2261., 2371., 2594., 2605., 2616., 2698., 2713., 2725., 2726.,\n",
       "       2835., 2891., 2912., 2922., 2989., 2992., 3028., 3141., 3215.,\n",
       "       3328., 3617., 3619., 3625., 3645., 3682., 3721., 3775., 3904.,\n",
       "       3981.])"
      ]
     },
     "execution_count": 67,
     "metadata": {},
     "output_type": "execute_result"
    }
   ],
   "source": [
    "tr_ip[0]"
   ]
  },
  {
   "cell_type": "code",
   "execution_count": 50,
   "metadata": {},
   "outputs": [
    {
     "data": {
      "text/plain": [
       "array([ 50.,  60.,  70.,  80.,  90., 100., 110., 120., 130., 140.])"
      ]
     },
     "execution_count": 50,
     "metadata": {},
     "output_type": "execute_result"
    }
   ],
   "source": [
    "np.array(tvec8)"
   ]
  },
  {
   "cell_type": "code",
   "execution_count": 33,
   "metadata": {},
   "outputs": [],
   "source": [
    "def biexponential(x, tau_rise, tau_decay):\n",
    "    return (1 - np.exp(-x / tau_rise)) * np.exp(-x / tau_decay)"
   ]
  },
  {
   "cell_type": "code",
   "execution_count": 31,
   "metadata": {},
   "outputs": [],
   "source": [
    "def alpha(x, tau):\n",
    "    return (x / tau) * np.exp(-x / tau)"
   ]
  }
 ],
 "metadata": {
  "kernelspec": {
   "display_name": "Python 3.7.9 ('pytorch')",
   "language": "python",
   "name": "python3"
  },
  "language_info": {
   "codemirror_mode": {
    "name": "ipython",
    "version": 3
   },
   "file_extension": ".py",
   "mimetype": "text/x-python",
   "name": "python",
   "nbconvert_exporter": "python",
   "pygments_lexer": "ipython3",
   "version": "3.7.9"
  },
  "orig_nbformat": 4,
  "vscode": {
   "interpreter": {
    "hash": "e0303fd8491053d13c9c42cd011e33f46cef99518871a0f5d89bd751d76522d8"
   }
  }
 },
 "nbformat": 4,
 "nbformat_minor": 2
}
