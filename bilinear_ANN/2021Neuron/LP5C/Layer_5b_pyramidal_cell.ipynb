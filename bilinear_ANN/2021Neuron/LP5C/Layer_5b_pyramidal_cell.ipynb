{
 "cells": [
  {
   "cell_type": "code",
   "execution_count": 1,
   "metadata": {},
   "outputs": [],
   "source": [
    "from __future__ import division\n",
    "from neuron import h\n",
    "from neuron import gui\n",
    "import matplotlib.pyplot as plt\n",
    "import numpy as np\n",
    "plt.ion()"
   ]
  },
  {
   "cell_type": "markdown",
   "metadata": {},
   "source": [
    "## creating cell object"
   ]
  },
  {
   "cell_type": "code",
   "execution_count": 2,
   "metadata": {},
   "outputs": [
    {
     "name": "stdout",
     "output_type": "stream",
     "text": [
      "/home/mjy/project/Bilinear_Network/sheasbyfohlmeister1999/2021Neuron/L5PC\n",
      "ls: cannot access 'mods/*.inc': No such file or directory\n",
      "mods/CaDynamics_E2.mod mods/Ca_HVA.mod mods/Ca_LVAst.mod mods/epsp.mod mods/Ih.mod mods/Im.mod mods/K_Pst.mod mods/K_Tst.mod mods/kv.mod mods/na.mod mods/Nap_Et2.mod mods/NaTa_t.mod mods/NaTs2_t.mod mods/ProbAMPA.mod mods/ProbAMPANMDA2_ratio.mod mods/ProbAMPANMDA_EMS.mod mods/ProbAMPANMDA.mod mods/ProbGABAAB_EMS.mod mods/ProbGABAA_EMS.mod mods/ProbGABAA.mod mods/ProbNMDA.mod mods/SK_E2.mod mods/SKv3_1.mod\n",
      "CaDynamics_E2.mod Ca_HVA.mod Ca_LVAst.mod epsp.mod Ih.mod Im.mod K_Pst.mod K_Tst.mod kv.mod na.mod Nap_Et2.mod NaTa_t.mod NaTs2_t.mod ProbAMPA.mod ProbAMPANMDA2_ratio.mod ProbAMPANMDA_EMS.mod ProbAMPANMDA.mod ProbGABAAB_EMS.mod ProbGABAA_EMS.mod ProbGABAA.mod ProbNMDA.mod SK_E2.mod SKv3_1.mod\n",
      " -> \u001b[32mCompiling\u001b[0m mod_func.c\n",
      "/home/mjy/anaconda/envs/pytorch/bin/x86_64-conda_cos6-linux-gnu-cc -O2   -I. -I..   -I/home/mjy/anaconda/envs/pytorch/lib/python3.7/site-packages/neuron/.data/include  -I/nrnwheel/openmpi/include -fPIC -c mod_func.c -o mod_func.o\n",
      " -> \u001b[32mNMODL\u001b[0m CaDynamics_E2.mod\n",
      " -> \u001b[32mNMODL\u001b[0m Ca_HVA.mod\n",
      "MODLUNIT=/home/mjy/anaconda/envs/pytorch/lib/python3.7/site-packages/neuron/.data/share/nrn/lib/nrnunits.lib \\\n",
      "  /home/mjy/anaconda/envs/pytorch/lib/python3.7/site-packages/neuron/.data/bin/nocmodl CaDynamics_E2.mod\n",
      "MODLUNIT=/home/mjy/anaconda/envs/pytorch/lib/python3.7/site-packages/neuron/.data/share/nrn/lib/nrnunits.lib \\\n",
      "  /home/mjy/anaconda/envs/pytorch/lib/python3.7/site-packages/neuron/.data/bin/nocmodl Ca_HVA.mod\n",
      " -> \u001b[32mNMODL\u001b[0m Ca_LVAst.mod\n",
      "MODLUNIT=/home/mjy/anaconda/envs/pytorch/lib/python3.7/site-packages/neuron/.data/share/nrn/lib/nrnunits.lib \\\n",
      "  /home/mjy/anaconda/envs/pytorch/lib/python3.7/site-packages/neuron/.data/bin/nocmodl Ca_LVAst.mod\n",
      "Translating Ca_HVA.mod into Ca_HVA.c\n",
      "Translating CaDynamics_E2.mod into CaDynamics_E2.c\n",
      "Translating Ca_LVAst.mod into Ca_LVAst.c\n",
      "Thread Safe\n",
      "Thread Safe\n",
      "Thread Safe\n",
      " -> \u001b[32mNMODL\u001b[0m Ih.mod\n",
      "MODLUNIT=/home/mjy/anaconda/envs/pytorch/lib/python3.7/site-packages/neuron/.data/share/nrn/lib/nrnunits.lib \\\n",
      "  /home/mjy/anaconda/envs/pytorch/lib/python3.7/site-packages/neuron/.data/bin/nocmodl Ih.mod\n",
      " -> \u001b[32mNMODL\u001b[0m Im.mod\n",
      "MODLUNIT=/home/mjy/anaconda/envs/pytorch/lib/python3.7/site-packages/neuron/.data/share/nrn/lib/nrnunits.lib \\\n",
      "  /home/mjy/anaconda/envs/pytorch/lib/python3.7/site-packages/neuron/.data/bin/nocmodl Im.mod\n",
      " -> \u001b[32mNMODL\u001b[0m K_Pst.mod\n",
      "MODLUNIT=/home/mjy/anaconda/envs/pytorch/lib/python3.7/site-packages/neuron/.data/share/nrn/lib/nrnunits.lib \\\n",
      "  /home/mjy/anaconda/envs/pytorch/lib/python3.7/site-packages/neuron/.data/bin/nocmodl K_Pst.mod\n",
      "Translating Im.mod into Im.c\n",
      "Thread Safe\n",
      "Translating Ih.mod into Ih.c\n",
      "Translating K_Pst.mod into K_Pst.c\n",
      "Thread Safe\n",
      " -> \u001b[32mNMODL\u001b[0m K_Tst.mod\n",
      "MODLUNIT=/home/mjy/anaconda/envs/pytorch/lib/python3.7/site-packages/neuron/.data/share/nrn/lib/nrnunits.lib \\\n",
      "  /home/mjy/anaconda/envs/pytorch/lib/python3.7/site-packages/neuron/.data/bin/nocmodl K_Tst.mod\n",
      " -> \u001b[32mNMODL\u001b[0m NaTa_t.mod\n",
      "MODLUNIT=/home/mjy/anaconda/envs/pytorch/lib/python3.7/site-packages/neuron/.data/share/nrn/lib/nrnunits.lib \\\n",
      "  /home/mjy/anaconda/envs/pytorch/lib/python3.7/site-packages/neuron/.data/bin/nocmodl NaTa_t.mod\n",
      "Translating NaTa_t.mod into NaTa_t.c\n",
      "Translating K_Tst.mod into K_Tst.c\n",
      "Thread Safe\n",
      "Thread Safe\n",
      " -> \u001b[32mNMODL\u001b[0m NaTs2_t.mod\n",
      "MODLUNIT=/home/mjy/anaconda/envs/pytorch/lib/python3.7/site-packages/neuron/.data/share/nrn/lib/nrnunits.lib \\\n",
      "  /home/mjy/anaconda/envs/pytorch/lib/python3.7/site-packages/neuron/.data/bin/nocmodl NaTs2_t.mod\n",
      " -> \u001b[32mNMODL\u001b[0m Nap_Et2.mod\n",
      "MODLUNIT=/home/mjy/anaconda/envs/pytorch/lib/python3.7/site-packages/neuron/.data/share/nrn/lib/nrnunits.lib \\\n",
      "  /home/mjy/anaconda/envs/pytorch/lib/python3.7/site-packages/neuron/.data/bin/nocmodl Nap_Et2.mod\n",
      "Translating NaTs2_t.mod into NaTs2_t.c\n",
      "Thread Safe\n",
      "Translating Nap_Et2.mod into Nap_Et2.c\n",
      "Thread Safe\n",
      " -> \u001b[32mNMODL\u001b[0m ProbAMPA.mod\n",
      "MODLUNIT=/home/mjy/anaconda/envs/pytorch/lib/python3.7/site-packages/neuron/.data/share/nrn/lib/nrnunits.lib \\\n",
      "  /home/mjy/anaconda/envs/pytorch/lib/python3.7/site-packages/neuron/.data/bin/nocmodl ProbAMPA.mod\n",
      " -> \u001b[32mNMODL\u001b[0m ProbAMPANMDA.mod\n",
      "MODLUNIT=/home/mjy/anaconda/envs/pytorch/lib/python3.7/site-packages/neuron/.data/share/nrn/lib/nrnunits.lib \\\n",
      "  /home/mjy/anaconda/envs/pytorch/lib/python3.7/site-packages/neuron/.data/bin/nocmodl ProbAMPANMDA.mod\n",
      "Translating ProbAMPA.mod into ProbAMPA.c\n",
      "Translating ProbAMPANMDA.mod into ProbAMPANMDA.c\n",
      "Thread Safe\n",
      "Warning: value undefined. (declared within VERBATIM?)\n",
      "Warning: SetSeedNowAMPA undefined. (declared within VERBATIM?)\n",
      "Warning: ranfAMPA undefined. (declared within VERBATIM?)\n",
      "Thread Safe\n",
      "Thread Safe\n",
      " -> \u001b[32mNMODL\u001b[0m ProbAMPANMDA2_ratio.mod\n",
      "MODLUNIT=/home/mjy/anaconda/envs/pytorch/lib/python3.7/site-packages/neuron/.data/share/nrn/lib/nrnunits.lib \\\n",
      "  /home/mjy/anaconda/envs/pytorch/lib/python3.7/site-packages/neuron/.data/bin/nocmodl ProbAMPANMDA2_ratio.mod\n",
      " -> \u001b[32mNMODL\u001b[0m ProbAMPANMDA_EMS.mod\n",
      "MODLUNIT=/home/mjy/anaconda/envs/pytorch/lib/python3.7/site-packages/neuron/.data/share/nrn/lib/nrnunits.lib \\\n",
      "  /home/mjy/anaconda/envs/pytorch/lib/python3.7/site-packages/neuron/.data/bin/nocmodl ProbAMPANMDA_EMS.mod\n",
      " -> \u001b[32mNMODL\u001b[0m ProbGABAA.mod\n",
      "MODLUNIT=/home/mjy/anaconda/envs/pytorch/lib/python3.7/site-packages/neuron/.data/share/nrn/lib/nrnunits.lib \\\n",
      "  /home/mjy/anaconda/envs/pytorch/lib/python3.7/site-packages/neuron/.data/bin/nocmodl ProbGABAA.mod\n",
      "Translating ProbAMPANMDA_EMS.mod into ProbAMPANMDA_EMS.c\n",
      "Translating ProbAMPANMDA2_ratio.mod into ProbAMPANMDA2_ratio.c\n",
      "Notice: Use of POINTER is not thread safe.\n",
      "Notice: VERBATIM blocks are not thread safe\n",
      "Translating ProbGABAA.mod into ProbGABAA.c\n",
      "Warning: value undefined. (declared within VERBATIM?)\n",
      "Thread Safe\n",
      "Notice: exprand is not thread safe\n",
      "Warning: value undefined. (declared within VERBATIM?)\n",
      "Notice: This mechanism cannot be used with CVODE\n",
      "Notice: A_AMPA discontinuity adjustment not available.\n",
      "Notice: B_AMPA discontinuity adjustment not available.\n",
      "Notice: A_NMDA discontinuity adjustment not available.\n",
      "Notice: B_NMDA discontinuity adjustment not available.\n",
      "Warning: dt undefined. (declared within VERBATIM?)\n",
      "Warning: value undefined. (declared within VERBATIM?)\n",
      " -> \u001b[32mNMODL\u001b[0m ProbGABAAB_EMS.mod\n",
      "MODLUNIT=/home/mjy/anaconda/envs/pytorch/lib/python3.7/site-packages/neuron/.data/share/nrn/lib/nrnunits.lib \\\n",
      "  /home/mjy/anaconda/envs/pytorch/lib/python3.7/site-packages/neuron/.data/bin/nocmodl ProbGABAAB_EMS.mod\n",
      "Thread Safe\n",
      " -> \u001b[32mNMODL\u001b[0m ProbGABAA_EMS.mod\n",
      "MODLUNIT=/home/mjy/anaconda/envs/pytorch/lib/python3.7/site-packages/neuron/.data/share/nrn/lib/nrnunits.lib \\\n",
      "  /home/mjy/anaconda/envs/pytorch/lib/python3.7/site-packages/neuron/.data/bin/nocmodl ProbGABAA_EMS.mod\n",
      " -> \u001b[32mNMODL\u001b[0m ProbNMDA.mod\n",
      "MODLUNIT=/home/mjy/anaconda/envs/pytorch/lib/python3.7/site-packages/neuron/.data/share/nrn/lib/nrnunits.lib \\\n",
      "  /home/mjy/anaconda/envs/pytorch/lib/python3.7/site-packages/neuron/.data/bin/nocmodl ProbNMDA.mod\n",
      "Translating ProbGABAAB_EMS.mod into ProbGABAAB_EMS.c\n",
      "Translating ProbGABAA_EMS.mod into ProbGABAA_EMS.c\n",
      "Warning: value undefined. (declared within VERBATIM?)\n",
      "Translating ProbNMDA.mod into ProbNMDA.c\n",
      "Thread Safe\n",
      " -> \u001b[32mNMODL\u001b[0m SK_E2.mod\n",
      "Warning: SetSeedNowNMDA undefined. (declared within VERBATIM?)\n",
      "Warning: ranfNMDA undefined. (declared within VERBATIM?)\n",
      "MODLUNIT=/home/mjy/anaconda/envs/pytorch/lib/python3.7/site-packages/neuron/.data/share/nrn/lib/nrnunits.lib \\\n",
      "  /home/mjy/anaconda/envs/pytorch/lib/python3.7/site-packages/neuron/.data/bin/nocmodl SK_E2.mod\n",
      "Thread Safe\n",
      "Notice: This mechanism cannot be used with CVODE\n",
      "Notice: A_GABAA discontinuity adjustment not available.\n",
      "Notice: B_GABAA discontinuity adjustment not available.\n",
      "Notice: A_GABAB discontinuity adjustment not available.\n",
      "Notice: B_GABAB discontinuity adjustment not available.\n",
      "Warning: dt undefined. (declared within VERBATIM?)\n",
      "Warning: value undefined. (declared within VERBATIM?)\n",
      "Thread Safe\n",
      "Translating SK_E2.mod into SK_E2.c\n",
      " -> \u001b[32mNMODL\u001b[0m SKv3_1.mod\n",
      "MODLUNIT=/home/mjy/anaconda/envs/pytorch/lib/python3.7/site-packages/neuron/.data/share/nrn/lib/nrnunits.lib \\\n",
      "  /home/mjy/anaconda/envs/pytorch/lib/python3.7/site-packages/neuron/.data/bin/nocmodl SKv3_1.mod\n",
      " -> \u001b[32mNMODL\u001b[0m epsp.mod\n",
      "MODLUNIT=/home/mjy/anaconda/envs/pytorch/lib/python3.7/site-packages/neuron/.data/share/nrn/lib/nrnunits.lib \\\n",
      "  /home/mjy/anaconda/envs/pytorch/lib/python3.7/site-packages/neuron/.data/bin/nocmodl epsp.mod\n",
      "Translating SKv3_1.mod into SKv3_1.c\n",
      "Thread Safe\n",
      "Translating epsp.mod into epsp.c\n",
      "Thread Safe\n",
      " -> \u001b[32mNMODL\u001b[0m kv.mod\n",
      "MODLUNIT=/home/mjy/anaconda/envs/pytorch/lib/python3.7/site-packages/neuron/.data/share/nrn/lib/nrnunits.lib \\\n",
      "  /home/mjy/anaconda/envs/pytorch/lib/python3.7/site-packages/neuron/.data/bin/nocmodl kv.mod\n",
      " -> \u001b[32mNMODL\u001b[0m na.mod\n",
      "MODLUNIT=/home/mjy/anaconda/envs/pytorch/lib/python3.7/site-packages/neuron/.data/share/nrn/lib/nrnunits.lib \\\n",
      "  /home/mjy/anaconda/envs/pytorch/lib/python3.7/site-packages/neuron/.data/bin/nocmodl na.mod\n",
      "Translating kv.mod into kv.c\n",
      "Thread Safe\n",
      " -> \u001b[32mCompiling\u001b[0m x86_64/CaDynamics_E2.c\n",
      "(cd .. ; /home/mjy/anaconda/envs/pytorch/bin/x86_64-conda_cos6-linux-gnu-cc -O2   -I. -I..   -I/home/mjy/anaconda/envs/pytorch/lib/python3.7/site-packages/neuron/.data/include  -I/nrnwheel/openmpi/include -fPIC -c x86_64/CaDynamics_E2.c -o x86_64/CaDynamics_E2.o)\n",
      "Thread Safe\n",
      "Translating na.mod into na.c\n",
      " -> \u001b[32mCompiling\u001b[0m x86_64/Ca_HVA.c\n",
      "(cd .. ; /home/mjy/anaconda/envs/pytorch/bin/x86_64-conda_cos6-linux-gnu-cc -O2   -I. -I..   -I/home/mjy/anaconda/envs/pytorch/lib/python3.7/site-packages/neuron/.data/include  -I/nrnwheel/openmpi/include -fPIC -c x86_64/Ca_HVA.c -o x86_64/Ca_HVA.o)\n",
      "Thread Safe\n",
      " -> \u001b[32mCompiling\u001b[0m x86_64/Ca_LVAst.c\n",
      "(cd .. ; /home/mjy/anaconda/envs/pytorch/bin/x86_64-conda_cos6-linux-gnu-cc -O2   -I. -I..   -I/home/mjy/anaconda/envs/pytorch/lib/python3.7/site-packages/neuron/.data/include  -I/nrnwheel/openmpi/include -fPIC -c x86_64/Ca_LVAst.c -o x86_64/Ca_LVAst.o)\n",
      " -> \u001b[32mCompiling\u001b[0m x86_64/Ih.c\n",
      "(cd .. ; /home/mjy/anaconda/envs/pytorch/bin/x86_64-conda_cos6-linux-gnu-cc -O2   -I. -I..   -I/home/mjy/anaconda/envs/pytorch/lib/python3.7/site-packages/neuron/.data/include  -I/nrnwheel/openmpi/include -fPIC -c x86_64/Ih.c -o x86_64/Ih.o)\n",
      " -> \u001b[32mCompiling\u001b[0m x86_64/Im.c\n",
      "(cd .. ; /home/mjy/anaconda/envs/pytorch/bin/x86_64-conda_cos6-linux-gnu-cc -O2   -I. -I..   -I/home/mjy/anaconda/envs/pytorch/lib/python3.7/site-packages/neuron/.data/include  -I/nrnwheel/openmpi/include -fPIC -c x86_64/Im.c -o x86_64/Im.o)\n",
      " -> \u001b[32mCompiling\u001b[0m x86_64/K_Pst.c\n",
      "(cd .. ; /home/mjy/anaconda/envs/pytorch/bin/x86_64-conda_cos6-linux-gnu-cc -O2   -I. -I..   -I/home/mjy/anaconda/envs/pytorch/lib/python3.7/site-packages/neuron/.data/include  -I/nrnwheel/openmpi/include -fPIC -c x86_64/K_Pst.c -o x86_64/K_Pst.o)\n",
      " -> \u001b[32mCompiling\u001b[0m x86_64/K_Tst.c\n",
      "(cd .. ; /home/mjy/anaconda/envs/pytorch/bin/x86_64-conda_cos6-linux-gnu-cc -O2   -I. -I..   -I/home/mjy/anaconda/envs/pytorch/lib/python3.7/site-packages/neuron/.data/include  -I/nrnwheel/openmpi/include -fPIC -c x86_64/K_Tst.c -o x86_64/K_Tst.o)\n",
      " -> \u001b[32mCompiling\u001b[0m x86_64/NaTa_t.c\n",
      "(cd .. ; /home/mjy/anaconda/envs/pytorch/bin/x86_64-conda_cos6-linux-gnu-cc -O2   -I. -I..   -I/home/mjy/anaconda/envs/pytorch/lib/python3.7/site-packages/neuron/.data/include  -I/nrnwheel/openmpi/include -fPIC -c x86_64/NaTa_t.c -o x86_64/NaTa_t.o)\n",
      " -> \u001b[32mCompiling\u001b[0m x86_64/NaTs2_t.c\n",
      "(cd .. ; /home/mjy/anaconda/envs/pytorch/bin/x86_64-conda_cos6-linux-gnu-cc -O2   -I. -I..   -I/home/mjy/anaconda/envs/pytorch/lib/python3.7/site-packages/neuron/.data/include  -I/nrnwheel/openmpi/include -fPIC -c x86_64/NaTs2_t.c -o x86_64/NaTs2_t.o)\n",
      " -> \u001b[32mCompiling\u001b[0m x86_64/Nap_Et2.c\n",
      "(cd .. ; /home/mjy/anaconda/envs/pytorch/bin/x86_64-conda_cos6-linux-gnu-cc -O2   -I. -I..   -I/home/mjy/anaconda/envs/pytorch/lib/python3.7/site-packages/neuron/.data/include  -I/nrnwheel/openmpi/include -fPIC -c x86_64/Nap_Et2.c -o x86_64/Nap_Et2.o)\n",
      " -> \u001b[32mCompiling\u001b[0m x86_64/ProbAMPA.c\n",
      "(cd .. ; /home/mjy/anaconda/envs/pytorch/bin/x86_64-conda_cos6-linux-gnu-cc -O2   -I. -I..   -I/home/mjy/anaconda/envs/pytorch/lib/python3.7/site-packages/neuron/.data/include  -I/nrnwheel/openmpi/include -fPIC -c x86_64/ProbAMPA.c -o x86_64/ProbAMPA.o)\n",
      " -> \u001b[32mCompiling\u001b[0m x86_64/ProbAMPANMDA.c\n",
      "(cd .. ; /home/mjy/anaconda/envs/pytorch/bin/x86_64-conda_cos6-linux-gnu-cc -O2   -I. -I..   -I/home/mjy/anaconda/envs/pytorch/lib/python3.7/site-packages/neuron/.data/include  -I/nrnwheel/openmpi/include -fPIC -c x86_64/ProbAMPANMDA.c -o x86_64/ProbAMPANMDA.o)\n",
      " -> \u001b[32mCompiling\u001b[0m x86_64/ProbAMPANMDA2_ratio.c\n",
      "(cd .. ; /home/mjy/anaconda/envs/pytorch/bin/x86_64-conda_cos6-linux-gnu-cc -O2   -I. -I..   -I/home/mjy/anaconda/envs/pytorch/lib/python3.7/site-packages/neuron/.data/include  -I/nrnwheel/openmpi/include -fPIC -c x86_64/ProbAMPANMDA2_ratio.c -o x86_64/ProbAMPANMDA2_ratio.o)\n",
      " -> \u001b[32mCompiling\u001b[0m x86_64/ProbAMPANMDA_EMS.c\n",
      "(cd .. ; /home/mjy/anaconda/envs/pytorch/bin/x86_64-conda_cos6-linux-gnu-cc -O2   -I. -I..   -I/home/mjy/anaconda/envs/pytorch/lib/python3.7/site-packages/neuron/.data/include  -I/nrnwheel/openmpi/include -fPIC -c x86_64/ProbAMPANMDA_EMS.c -o x86_64/ProbAMPANMDA_EMS.o)\n",
      " -> \u001b[32mCompiling\u001b[0m x86_64/ProbGABAA.c\n",
      "(cd .. ; /home/mjy/anaconda/envs/pytorch/bin/x86_64-conda_cos6-linux-gnu-cc -O2   -I. -I..   -I/home/mjy/anaconda/envs/pytorch/lib/python3.7/site-packages/neuron/.data/include  -I/nrnwheel/openmpi/include -fPIC -c x86_64/ProbGABAA.c -o x86_64/ProbGABAA.o)\n",
      " -> \u001b[32mCompiling\u001b[0m x86_64/ProbGABAAB_EMS.c\n",
      "(cd .. ; /home/mjy/anaconda/envs/pytorch/bin/x86_64-conda_cos6-linux-gnu-cc -O2   -I. -I..   -I/home/mjy/anaconda/envs/pytorch/lib/python3.7/site-packages/neuron/.data/include  -I/nrnwheel/openmpi/include -fPIC -c x86_64/ProbGABAAB_EMS.c -o x86_64/ProbGABAAB_EMS.o)\n",
      " -> \u001b[32mCompiling\u001b[0m x86_64/ProbGABAA_EMS.c\n",
      "(cd .. ; /home/mjy/anaconda/envs/pytorch/bin/x86_64-conda_cos6-linux-gnu-cc -O2   -I. -I..   -I/home/mjy/anaconda/envs/pytorch/lib/python3.7/site-packages/neuron/.data/include  -I/nrnwheel/openmpi/include -fPIC -c x86_64/ProbGABAA_EMS.c -o x86_64/ProbGABAA_EMS.o)\n",
      " -> \u001b[32mCompiling\u001b[0m x86_64/ProbNMDA.c\n",
      "(cd .. ; /home/mjy/anaconda/envs/pytorch/bin/x86_64-conda_cos6-linux-gnu-cc -O2   -I. -I..   -I/home/mjy/anaconda/envs/pytorch/lib/python3.7/site-packages/neuron/.data/include  -I/nrnwheel/openmpi/include -fPIC -c x86_64/ProbNMDA.c -o x86_64/ProbNMDA.o)\n",
      " -> \u001b[32mCompiling\u001b[0m x86_64/SK_E2.c\n",
      "(cd .. ; /home/mjy/anaconda/envs/pytorch/bin/x86_64-conda_cos6-linux-gnu-cc -O2   -I. -I..   -I/home/mjy/anaconda/envs/pytorch/lib/python3.7/site-packages/neuron/.data/include  -I/nrnwheel/openmpi/include -fPIC -c x86_64/SK_E2.c -o x86_64/SK_E2.o)\n",
      " -> \u001b[32mCompiling\u001b[0m x86_64/SKv3_1.c\n",
      "(cd .. ; /home/mjy/anaconda/envs/pytorch/bin/x86_64-conda_cos6-linux-gnu-cc -O2   -I. -I..   -I/home/mjy/anaconda/envs/pytorch/lib/python3.7/site-packages/neuron/.data/include  -I/nrnwheel/openmpi/include -fPIC -c x86_64/SKv3_1.c -o x86_64/SKv3_1.o)\n",
      " -> \u001b[32mCompiling\u001b[0m x86_64/epsp.c\n",
      "(cd .. ; /home/mjy/anaconda/envs/pytorch/bin/x86_64-conda_cos6-linux-gnu-cc -O2   -I. -I..   -I/home/mjy/anaconda/envs/pytorch/lib/python3.7/site-packages/neuron/.data/include  -I/nrnwheel/openmpi/include -fPIC -c x86_64/epsp.c -o x86_64/epsp.o)\n",
      " -> \u001b[32mCompiling\u001b[0m x86_64/kv.c\n",
      "(cd .. ; /home/mjy/anaconda/envs/pytorch/bin/x86_64-conda_cos6-linux-gnu-cc -O2   -I. -I..   -I/home/mjy/anaconda/envs/pytorch/lib/python3.7/site-packages/neuron/.data/include  -I/nrnwheel/openmpi/include -fPIC -c x86_64/kv.c -o x86_64/kv.o)\n",
      " -> \u001b[32mCompiling\u001b[0m x86_64/na.c\n",
      "(cd .. ; /home/mjy/anaconda/envs/pytorch/bin/x86_64-conda_cos6-linux-gnu-cc -O2   -I. -I..   -I/home/mjy/anaconda/envs/pytorch/lib/python3.7/site-packages/neuron/.data/include  -I/nrnwheel/openmpi/include -fPIC -c x86_64/na.c -o x86_64/na.o)\n",
      " => \u001b[32mLINKING\u001b[0m library x86_64/libnrnmech.so Mod files: CaDynamics_E2.mod Ca_HVA.mod Ca_LVAst.mod Ih.mod Im.mod K_Pst.mod K_Tst.mod NaTa_t.mod NaTs2_t.mod Nap_Et2.mod ProbAMPA.mod ProbAMPANMDA.mod ProbAMPANMDA2_ratio.mod ProbAMPANMDA_EMS.mod ProbGABAA.mod ProbGABAAB_EMS.mod ProbGABAA_EMS.mod ProbNMDA.mod SK_E2.mod SKv3_1.mod epsp.mod kv.mod na.mod\n",
      "(cd .. ; /home/mjy/anaconda/envs/pytorch/bin/x86_64-conda_cos6-linux-gnu-c++ -O2 -DVERSION_INFO='7.8.1.1' -std=c++11 -shared -fPIC  -I /home/mjy/anaconda/envs/pytorch/lib/python3.7/site-packages/neuron/.data/include -o x86_64/libnrnmech.so -Wl,-soname,libnrnmech.so \\\n",
      "  x86_64/mod_func.o x86_64/CaDynamics_E2.o x86_64/Ca_HVA.o x86_64/Ca_LVAst.o x86_64/Ih.o x86_64/Im.o x86_64/K_Pst.o x86_64/K_Tst.o x86_64/NaTa_t.o x86_64/NaTs2_t.o x86_64/Nap_Et2.o x86_64/ProbAMPA.o x86_64/ProbAMPANMDA.o x86_64/ProbAMPANMDA2_ratio.o x86_64/ProbAMPANMDA_EMS.o x86_64/ProbGABAA.o x86_64/ProbGABAAB_EMS.o x86_64/ProbGABAA_EMS.o x86_64/ProbNMDA.o x86_64/SK_E2.o x86_64/SKv3_1.o x86_64/epsp.o x86_64/kv.o x86_64/na.o -L/home/mjy/anaconda/envs/pytorch/lib/python3.7/site-packages/neuron/.data/lib -lnrniv -Wl,-rpath,/home/mjy/anaconda/envs/pytorch/lib/python3.7/site-packages/neuron/.data/lib   )\n",
      "(cd .. ; rm -f x86_64/.libs/libnrnmech.so ; mkdir -p x86_64/.libs ; ln -s ../../x86_64/libnrnmech.so x86_64/.libs/libnrnmech.so)\n",
      "Successfully created x86_64/special\n"
     ]
    }
   ],
   "source": [
    "!nrnivmodl mods "
   ]
  },
  {
   "cell_type": "code",
   "execution_count": 4,
   "metadata": {},
   "outputs": [],
   "source": [
    "h.load_file(\"import3d.hoc\")\n",
    "morphology_file = \"morphologies/cell1.asc\"\n",
    "h.load_file(\"models/L5PCbiophys3.hoc\")\n",
    "h.load_file(\"models/L5PCtemplate.hoc\")\n",
    "L5PC = h.L5PCtemplate(morphology_file)"
   ]
  },
  {
   "cell_type": "markdown",
   "metadata": {},
   "source": [
    "## stimulus settings"
   ]
  },
  {
   "cell_type": "code",
   "execution_count": 5,
   "metadata": {},
   "outputs": [],
   "source": [
    "stim = h.IClamp(L5PC.soma[0](0.5))\n",
    "stim.dur   = 1000\n",
    "stim.delay = 400\n",
    "stim.amp   = 0.793"
   ]
  },
  {
   "cell_type": "markdown",
   "metadata": {},
   "source": [
    "## recording settings"
   ]
  },
  {
   "cell_type": "code",
   "execution_count": 6,
   "metadata": {},
   "outputs": [],
   "source": [
    "t = h.Vector()\n",
    "t.record(h._ref_t)\n",
    "\n",
    "soma_v = h.Vector()\n",
    "soma_v.record(L5PC.soma[0](0.5)._ref_v)\n",
    "\n",
    "nexus_v = h.Vector()\n",
    "nexus_v.record(L5PC.apic[36](0.9)._ref_v)\n",
    "\n",
    "stim_current = h.Vector()\n",
    "stim_current.record(stim._ref_i);"
   ]
  },
  {
   "cell_type": "markdown",
   "metadata": {},
   "source": [
    "# run simulation"
   ]
  },
  {
   "cell_type": "code",
   "execution_count": 7,
   "metadata": {},
   "outputs": [],
   "source": [
    "h.v_init = -80\n",
    "h.tstop = 1500\n",
    "h.celsius = 37\n",
    "h.run();"
   ]
  },
  {
   "cell_type": "markdown",
   "metadata": {},
   "source": [
    "# plotting"
   ]
  },
  {
   "cell_type": "code",
   "execution_count": 8,
   "metadata": {},
   "outputs": [
    {
     "data": {
      "image/png": "[encoded data removed]",
      "text/plain": [
       "<Figure size 360x288 with 2 Axes>"
      ]
     },
     "metadata": {
      "needs_background": "light"
     },
     "output_type": "display_data"
    }
   ],
   "source": [
    "f, (ax0, ax1) = plt.subplots(2,1, figsize=(5,4), gridspec_kw = {'height_ratios':[3, 1]})\n",
    "ax0.plot(t,soma_v, 'k', label = 'soma')\n",
    "ax0.plot(t,nexus_v, 'orange', label = 'apic[36]')\n",
    "ax0.legend(frameon=False)\n",
    "ax1.plot(t,stim_current)\n",
    "\n",
    "ax0.set_ylabel('Voltage (mV)')\n",
    "#ax0.set_ylim(-80,20)\n",
    "ax0.spines['right'].set_visible(False)\n",
    "ax0.spines['top'].set_visible(False)\n",
    "ax0.spines['bottom'].set_visible(False)\n",
    "ax0.get_xaxis().set_visible(False)\n",
    "\n",
    "\n",
    "ax1.plot([50,50],[0.1,0.35],'k')\n",
    "ax1.text(80,0.2,'350 pA',va='center')\n",
    "ax1.set_ylabel('I (nA)')\n",
    "ax1.set_xlabel('t (ms)')\n",
    "#ax1.set_ylim(-0.01,0.02)\n",
    "ax1.spines['right'].set_visible(False)\n",
    "ax1.spines['top'].set_visible(False)\n",
    "ax1.spines['left'].set_visible(False)\n",
    "ax1.get_yaxis().set_visible(False)\n",
    "plt.tight_layout()"
   ]
  },
  {
   "cell_type": "code",
   "execution_count": null,
   "metadata": {},
   "outputs": [],
   "source": []
  }
 ],
 "metadata": {
  "kernelspec": {
   "display_name": "Python 3.7.9 ('pytorch')",
   "language": "python",
   "name": "python3"
  },
  "language_info": {
   "codemirror_mode": {
    "name": "ipython",
    "version": 3
   },
   "file_extension": ".py",
   "mimetype": "text/x-python",
   "name": "python",
   "nbconvert_exporter": "python",
   "pygments_lexer": "ipython3",
   "version": "3.7.9 (default, Aug 31 2020, 12:42:55) \n[GCC 7.3.0]"
  },
  "vscode": {
   "interpreter": {
    "hash": "e0303fd8491053d13c9c42cd011e33f46cef99518871a0f5d89bd751d76522d8"
   }
  }
 },
 "nbformat": 4,
 "nbformat_minor": 2
}
