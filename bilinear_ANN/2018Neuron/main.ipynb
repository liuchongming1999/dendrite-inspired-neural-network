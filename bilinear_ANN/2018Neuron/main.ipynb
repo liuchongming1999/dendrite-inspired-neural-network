{
 "cells": [
  {
   "cell_type": "code",
   "execution_count": 3,
   "metadata": {},
   "outputs": [],
   "source": [
    "import numpy as np\n",
    "import neuron\n",
    "import pickle\n",
    "from neuron import h\n",
    "from neuron import load_mechanisms\n",
    "from neuron import gui\n",
    "# import brian2 as br \n",
    "exec(open('sim_functs.py').read())\n",
    "import matplotlib.pyplot as plt\n",
    "plt.rcParams.update({'font.size': 15})"
   ]
  },
  {
   "cell_type": "code",
   "execution_count": null,
   "metadata": {},
   "outputs": [
    {
     "data": {
      "text/plain": [
       "1"
      ]
     },
     "execution_count": 2,
     "metadata": {},
     "output_type": "execute_result"
    }
   ],
   "source": [
    "h(\"objref nil\")"
   ]
  },
  {
   "cell_type": "markdown",
   "metadata": {},
   "source": [
    "# Create Neuron"
   ]
  },
  {
   "cell_type": "code",
   "execution_count": null,
   "metadata": {},
   "outputs": [],
   "source": [
    "# MODELS\n",
    "class L23(object):\n",
    "\n",
    "    # Cell morphology is from cat, all lengths and diameters\n",
    "    # are scaled to 70% to approximate it to mouse values\n",
    "\n",
    "    def __init__(self):\n",
    "        h('xopen(\"./L23.hoc\")')\n",
    "        props(self)\n",
    "        self._geom()\n",
    "        self._topol()\n",
    "        self._changeLength()\n",
    "        self._biophys()\n",
    "\n",
    "    def _geom(self):\n",
    "        self.axon = h.Section()\n",
    "        # self.axon.L = 1\n",
    "        self.axon.L = 300\n",
    "        self.axon.diam = 1\n",
    "\n",
    "    def _topol(self):            \n",
    "        self.soma = h.soma\n",
    "        self.dends = []\n",
    "        for sec in h.allsec():\n",
    "            self.dends.append(sec)\n",
    "            sec.nseg = 7\n",
    "        self.dends.pop()   # Remove soma from the list\n",
    "        self.dends.pop()   # and the Axon\n",
    "        for sec in self.dends:\n",
    "            sec.diam = sec.diam * self.rescale\n",
    "        self.axon.connect(self.soma,1,0)\n",
    "    \n",
    "    def _biophys(self):\n",
    "        for sec in h.allsec():\n",
    "            sec.cm = self.CM\n",
    "            sec.insert('pas')\n",
    "            sec.e_pas = self.E_PAS\n",
    "            sec.g_pas = 1.0/self.RM\n",
    "            sec.Ra = self.RA\n",
    "\n",
    "    def _changeLength(self):\n",
    "        for sec in h.allsec():\n",
    "            sec.L = sec.L * self.rescale\n"
   ]
  },
  {
   "cell_type": "code",
   "execution_count": null,
   "metadata": {},
   "outputs": [],
   "source": [
    "# INSTRUMENTATION FUNCTIONS\n",
    "def props(model):\n",
    "\n",
    "    # morphology - rescale factor\n",
    "    model.rescale = 0.7 # 0.7\n",
    "    \n",
    "    # Passive properties\n",
    "    model.CM = 1.0\n",
    "    model.RM = 7000.0\n",
    "    model.RA = 100.0 \n",
    "    model.E_PAS = -75\n",
    "    model.CELSIUS = 35\n",
    "\n",
    "    # Active properties\n",
    "    model.Ek = -90\n",
    "    model.Ena = 60\n",
    "    model.Eca = 140\n",
    "    \n",
    "    ## unit:  pS/um2 ; in comments: the values reported in Smith et al, 2013\n",
    "    model.gna_axon = 1000 #  pS/um2 - missing\n",
    "    model.gkv_axon = 100 #  pS/um2 - missing\n",
    "    \n",
    "    model.gna_soma = 1000 #  pS/um2 - 100 mS/cm2\n",
    "    model.gkv_soma = 100 # pS/um2 - 10 mS/cm2\n",
    "    model.gkm_soma = 2.2 #  pS/um2 \n",
    "    model.gkca_soma = 3 #  pS/um2\n",
    "    model.gca_soma = 0.5 # pS/um2 - 0.05 mS/cm2\n",
    "    model.git_soma = 0.0003 #  S/cm2 - 0.0003 mS/cm2\n",
    "    \n",
    "    model.gna_dend = 80 #  pS/um2 - 60 mS/cm2\n",
    "    model.gna_dend_hotSpot = 600 # no date\n",
    "    model.gkv_dend = 3 # 0.3  pS/um2 - mS/cm2\n",
    "    model.gkm_dend = 1 # pS/um2\n",
    "    model.gkca_dend = 3 # pS/um2\n",
    "    model.gca_dend = 0.5 # pS/um2 - 0.05 mS/cm2\n",
    "    model.git_dend = 0.00015 # S/cm2 - 0.00015 ms/cm2\n",
    "    model.gh_dend = 0"
   ]
  },
  {
   "cell_type": "code",
   "execution_count": null,
   "metadata": {},
   "outputs": [],
   "source": [
    "def init_active(model, axon=False, soma=False, dend=True, dendNa=False,\n",
    "                dendCa=False):\n",
    "    if axon:\n",
    "        model.axon.insert('na'); model.axon.gbar_na = model.gna_axon\n",
    "        model.axon.insert('kv'); model.axon.gbar_kv = model.gkv_axon\n",
    "        model.axon.ena = model.Ena\n",
    "        model.axon.ek = model.Ek\n",
    "        print('active conductances added in the axon')\n",
    "        \n",
    "    if soma:\n",
    "        model.soma.insert('na'); model.soma.gbar_na = model.gna_soma\n",
    "        model.soma.insert('kv'); model.soma.gbar_kv = model.gkv_soma\n",
    "        model.soma.insert('km'); model.soma.gbar_km = model.gkm_soma\n",
    "        model.soma.insert('kca'); model.soma.gbar_kca = model.gkca_soma\n",
    "        model.soma.insert('ca'); model.soma.gbar_ca = model.gca_soma\n",
    "        model.soma.insert('it'); model.soma.gbar_it = model.git_soma\n",
    "        # model.soma.insert('cad');\n",
    "        model.soma.ena = model.Ena\n",
    "        model.soma.ek = model.Ek\n",
    "        model.soma.eca = model.Eca\n",
    "        print('somatic active conductances enabled')\n",
    "        \n",
    "    if dend:\n",
    "        for d in model.dends:\n",
    "            d.insert('na'); d.gbar_na = model.gna_dend*dendNa\n",
    "            d.insert('kv'); d.gbar_kv = model.gkv_dend\n",
    "            d.insert('km'); d.gbar_km = model.gkm_dend\n",
    "            d.insert('kca'); d.gbar_kca = model.gkca_dend\n",
    "            d.insert('ca'); d.gbar_ca = model.gca_dend*dendCa\n",
    "            d.insert('it'); d.gbar_it = model.git_dend*dendCa\n",
    "            # d.insert('cad')\n",
    "            d.ena = model.Ena\n",
    "            d.ek = model.Ek\n",
    "            d.eca = model.Eca\n",
    "        print('active dendrites enabled')"
   ]
  },
  {
   "cell_type": "code",
   "execution_count": null,
   "metadata": {},
   "outputs": [],
   "source": [
    "def add_somaStim(model, p=0.5, onset=20, dur=1, amp=0):\n",
    "    model.stim = h.IClamp(model.soma(p))\n",
    "    model.stim.delay = onset\n",
    "    model.stim.dur = dur\n",
    "    model.stim.amp = amp    # nA\n",
    "    \n",
    "def add_dendStim(model, p=0.5, dend=10, onset=20, dur=1, amp=0):\n",
    "    model.stim = h.IClamp(model.dends[dend](p))\n",
    "    model.stim.delay = onset\n",
    "    model.stim.dur = dur\n",
    "    model.stim.amp = amp    # nA\n",
    "\n",
    "\n",
    "def synDist(model,locs):\n",
    "    nsyn = len(locs)\n",
    "    DSyn = np.zeros([nsyn, nsyn])\n",
    "    fromSyn = 0\n",
    "    for loc in locs:\n",
    "        fromDend = loc[0]\n",
    "        fromX = loc[1]\n",
    "        fromSection = model.dends[fromDend]\n",
    "        h.distance(0, fromX, sec=fromSection)\n",
    "        toSyn = 0\n",
    "        for toLoc in locs:\n",
    "            toDend = toLoc[0]\n",
    "            toX = toLoc[1]\n",
    "            toSection = model.dends[toDend]\n",
    "            x = h.distance(toX, sec=toSection)\n",
    "            DSyn[toSyn, fromSyn] = x\n",
    "            toSyn = toSyn + 1\n",
    "        fromSyn = fromSyn + 1\n",
    "    return DSyn"
   ]
  },
  {
   "cell_type": "code",
   "execution_count": null,
   "metadata": {},
   "outputs": [],
   "source": [
    "def synDistFromSoma(model,locs):\n",
    "    nsyn = len(locs)\n",
    "    DSyn = np.zeros([nsyn,1])\n",
    "    fromSyn = 0\n",
    "    h.distance(0, 0.5, sec=model.soma)\n",
    "    toSyn = 0\n",
    "    for toLoc in locs:\n",
    "        toDend = toLoc[0]\n",
    "        toX = toLoc[1]\n",
    "        toSection = model.dends[toDend]\n",
    "        if (toDend < 0):\n",
    "            x = h.distance(toX, sec=model.soma)\n",
    "        else:\n",
    "            x = h.distance(toX, sec=toSection)\n",
    "        DSyn[toSyn,0] = x\n",
    "        toSyn = toSyn + 1\n",
    "    return DSyn"
   ]
  },
  {
   "cell_type": "code",
   "execution_count": null,
   "metadata": {},
   "outputs": [],
   "source": [
    "def add_AMPAsyns(model, locs=[[0, 0.5]], gmax=0.5, tau1=0.1, tau2=2, NoSynDends=[]):\n",
    "    model.AMPAlist = []\n",
    "    model.ncAMPAlist = []\n",
    "    gmax = gmax/1000.   # Set in nS and convert to muS\n",
    "    for loc in locs:\n",
    "        locInd = int(loc[0])\n",
    "        if (locInd == -1):\n",
    "            synloc = model.soma\n",
    "        else:\n",
    "            synloc = model.dends[int(loc[0])]\n",
    "        AMPA = h.Exp2Syn(float(loc[1]), sec=synloc)\n",
    "        AMPA.tau1 = tau1\n",
    "        AMPA.tau2 = tau2\n",
    "        if (int(loc[0]) in NoSynDends):\n",
    "            gg = 0 # same input into a single branch\n",
    "        else:\n",
    "            gg = gmax\n",
    "        NC = h.NetCon(h.nil, AMPA, 0, 0, gg) # NetCon(source, target, threshold, delay, weight)\n",
    "        model.AMPAlist.append(AMPA)\n",
    "        model.ncAMPAlist.append(NC)\n",
    "    print('AMPA synapses added')\n",
    "\n",
    "def add_NMDAsyns(model, locs=[[0, 0.5]], gmax=0.5, tau1=3, tau2=40, NoSynDends=[]):\n",
    "    model.NMDAlist = []\n",
    "    model.ncNMDAlist = []\n",
    "    gmax = gmax/1000.   # Set in nS and convert to muS\n",
    "    for loc in locs:\n",
    "        locInd = int(loc[0])\n",
    "        if (locInd == -1):\n",
    "            synloc = model.soma\n",
    "        else:\n",
    "            synloc = model.dends[int(loc[0])]\n",
    "        NMDA = h.Exp2Syn(float(loc[1]), sec=synloc) \n",
    "        NMDA.tau1 = tau1\n",
    "        NMDA.tau2 = tau2\n",
    "#        NMDA.e = 0\n",
    "        if (int(loc[0]) in NoSynDends):\n",
    "            gg = 0 # same input into a single branch\n",
    "        else:\n",
    "            gg = gmax\n",
    "        NC = h.NetCon(h.nil, NMDA, 0, 0, gg)\n",
    "        x = float(loc[1])\n",
    "        model.NMDAlist.append(NMDA)\n",
    "        model.ncNMDAlist.append(NC)   \n",
    "    print('dExp NMDA synapses generated')\n",
    "\n",
    "def add_NMDAkin_syns(model, locs=[[0, 0.5]], gmax=0.5, tau1=3, tau2=40, NoSynDends=[]):\n",
    "    model.NMDAlist = []\n",
    "    model.ncNMDAlist = []\n",
    "    gmax = gmax * 1000 * 5.4  # scaling gmax to match the 2exp synapse - see desens_test/test_NMDA.py\n",
    "    for loc in locs:\n",
    "        locInd = int(loc[0])\n",
    "        if (locInd == -1):\n",
    "            synloc = model.soma\n",
    "        else:\n",
    "            synloc = model.dends[int(loc[0])]\n",
    "        NMDA = h.NMDA5d2nc(float(loc[1]), sec=synloc) \n",
    "        if (int(loc[0]) in NoSynDends):\n",
    "            gg = 0 # same input into a single branch\n",
    "        else:\n",
    "            gg = gmax\n",
    "        NMDA.gmax = gg\n",
    "        NC = h.NetCon(h.nil, NMDA, 0, 0, 1)\n",
    "        model.NMDAlist.append(NMDA)\n",
    "        model.ncNMDAlist.append(NC)   \n",
    "    print('kinetic NMDA synapses generated')\n",
    "\n",
    "        \n",
    "def add_GABAsyns(model, locs=[[0, 0.5]], gmax=0.5, tau1=0.1, tau2=4,\n",
    "                     rev=-75, NoSynDends=[]):\n",
    "    model.GABAlist = []\n",
    "    model.ncGABAlist = []\n",
    "    gmax = gmax/1000.   # Set in nS and convert to muS\n",
    "    for loc in locs:\n",
    "        locInd = int(loc[0])\n",
    "        if (locInd == -1):\n",
    "            synloc = model.soma\n",
    "        else:\n",
    "            synloc = model.dends[int(loc[0])]\n",
    "        GABA = h.Exp2Syn(float(loc[1]), sec=synloc) \n",
    "        GABA.tau1 = tau1\n",
    "        GABA.tau2 = tau2\n",
    "        GABA.e = rev\n",
    "        if (int(loc[0]) in NoSynDends):\n",
    "            gg = 0 # same input into a single branch\n",
    "        else:\n",
    "            gg = gmax\n",
    "        NC = h.NetCon(h.nil, GABA, 0, 0, gg)\n",
    "        model.GABAlist.append(GABA)\n",
    "        model.ncGABAlist.append(NC)\n",
    "    print('inhibitory synapses generated')\n",
    "        \n",
    "\n",
    "def addSpines(model):\n",
    "    for sec in model.dends:\n",
    "        sec.cm = model.CM*1.5\n",
    "        sec.g_pas = 1.0/(model.RM/1.5)\n",
    "    print('fake spines added')\n",
    "\n",
    "def hotSpot(model):\n",
    "    spot = np.ceil(7/2.)\n",
    "    for section in model.dends:\n",
    "        s = 0\n",
    "        for seg in section:\n",
    "            if s==spot:\n",
    "                seg.gbar_na = model.gna_dend_hotSpot    \n",
    "#                print('hotspot added', s)\n",
    "            else:\n",
    "                seg.gbar_na = 0\n",
    "            s+=1\n",
    "\n",
    "\n",
    "# ----------------------------------------------------------\n",
    "# SIMULATION RUN\n",
    "def simulate(model, t_stop=100, NMDA=False, recDend=False, i_recDend=11):\n",
    "    trec, vrec = h.Vector(), h.Vector()\n",
    "    gRec, iRec, vDendRec = [], [], []\n",
    "    gNMDA_rec, iNMDA_rec = [], []\n",
    "    trec.record(h._ref_t)\n",
    "    vrec.record(model.soma(0.5)._ref_v)\n",
    "\n",
    "    # if NMDA:        \n",
    "    #     for n in np.arange(0, len(model.NMDAlist)):\n",
    "    #         loc = model.NMDAlist[n].get_loc()\n",
    "    #         h.pop_section()                        \n",
    "    #         gNMDA_rec.append(h.Vector())\n",
    "    #         iNMDA_rec.append(h.Vector())\n",
    "    #         gNMDA_rec[n].record(model.NMDAlist[n]._ref_g)\n",
    "    #         iNMDA_rec[n].record(model.NMDAlist[n]._ref_i)\n",
    "    #     gRec.append(gNMDA_rec)\n",
    "    #     iRec.append(iNMDA_rec)\n",
    "    if recDend:\n",
    "        n = 0\n",
    "        for i_dend in i_recDend:\n",
    "            vDendRec.append(h.Vector())\n",
    "            vDendRec[n].record(model.dends[i_dend](0.5)._ref_v)\n",
    "            n+=1\n",
    " \n",
    "    h.celsius = model.CELSIUS\n",
    "    h.finitialize(model.E_PAS)\n",
    "    neuron.run(t_stop)\n",
    "    return np.array(trec), np.array(vrec), np.array(vDendRec)\n",
    "#, np.array(caDendRec), np.array(vSecRec)\n"
   ]
  },
  {
   "cell_type": "code",
   "execution_count": null,
   "metadata": {},
   "outputs": [
    {
     "name": "stdout",
     "output_type": "stream",
     "text": [
      "\t0 \n",
      "\t1 \n",
      "\t1 \n",
      "\t1 \n",
      "\t1 \n"
     ]
    }
   ],
   "source": [
    "model = L23()"
   ]
  },
  {
   "cell_type": "markdown",
   "metadata": {},
   "source": [
    "# Data"
   ]
  },
  {
   "cell_type": "code",
   "execution_count": null,
   "metadata": {},
   "outputs": [],
   "source": [
    "class emptyObject(object): pass"
   ]
  },
  {
   "cell_type": "code",
   "execution_count": null,
   "metadata": {},
   "outputs": [],
   "source": [
    "data = emptyObject()\n",
    "data.vdata, data.vDdata, data.stim = [], [], []\n",
    "\n",
    "#----------------------------------------------------------------------------\n",
    "# Simulation CONTROL\n",
    "# PAR1 = 0\n",
    "# PAR2 = 2\n",
    "data.model = 'L23'\n",
    "data.simType = 'allDend' # allDend\n",
    "data.stimType = 'mixedori' # allDend, orientations, mixedori, Poisson, minis\n",
    "data.actType = 'passive' # passive, aSoma, Adend\n",
    "\n",
    "### controls the up-state transitions for allDend\n",
    "iomega = 2\n",
    "data.omegai = 1 # 1\n",
    "\n",
    "data.ind_Rates = 0 #PAR1 # 0-5\n",
    "iclust = 2 #PAR2 # 0-5; 1, 4, 13, 100, 200, 629\n",
    "data.iAmp = 2 # 0-2 - the amplitude of the dendritically injected current in the orientation tuning experiments\n",
    "\n",
    "data.r_seed = 1\n",
    "noSynDend = []\n",
    "\n",
    "data.inburstrate = 0\n",
    "\n",
    "#---------------------------------------------------------------------------\n",
    "# simtype sets the location of the synapses and the stimulus type\n",
    "data.SHOWTRACES = True\n",
    "data.SAVE = True\n",
    "data.SHOWSYNS = True\n",
    "\n",
    "### number of iterations for allDend; number of orientations for ori\n",
    "data.nIter = 2 # 10 for allDend; 16 for ori and 10 for mixedori\n",
    "### time parameters\n",
    "data.st_onset = 0.11 # in seconds - only for minis\n",
    "data.st_duration = 2.5 # doesn't matter\n",
    "data.TSTOP = 2 # 41 for allDend, 18 for orientations and 48 for mixedori, 0.3 for minis\n",
    "\n",
    "data.ACTIVE = True\n",
    "data.ACTIVEaxonSoma = True\n",
    "data.ACTIVEdend = False\n",
    "data.ACTIVEdendNa = False\n",
    "data.ACTIVEdendCa = False\n",
    "data.ACTIVEhotSpot = False\n",
    "if (data.actType == 'passive'):\n",
    "   data.ACTIVE = False\n",
    "   data.ACTIVEaxonSoma = False\n",
    "if (data.actType == 'Adend'):\n",
    "    data.ACTIVEdend = True\n",
    "    data.ACTIVEdendNa = True\n",
    "    data.ACTIVEdendCa = True\n",
    "    data.ACTIVEhotSpot = True\n",
    "    data.ACTIVEaxonSoma = False\n",
    "\n",
    "\n",
    "data.SPINES = False\n",
    "\n",
    "#----------------------------------------------------------------------------\n",
    "# synapse parameters\n",
    "#----------------------------------------------------------------------------\n",
    "data.SYN = True\n",
    "data.GABA = True    \n",
    "data.NMDA = True\n",
    "data.NMDAkinetic = False\n",
    "data.ApN = 0.5 # AMPA per NMDA ratio\n",
    "\n",
    "data.Egmax = 0.2 # nS - NMDA max conductance\n",
    "data.Igmax = 1\n",
    "data.Irev = -80\n",
    "data.locBias = 'none'\n",
    "\n",
    "# execfile('init_params.py')\n",
    "exec(open('init_params.py').read())\n",
    "\n",
    "#----------------------------------------------------------------------------\n",
    "# Simulation general parameters\n",
    "data.dt = 0.2\n",
    "h.dt = data.dt\n",
    "h.steps_per_ms = 1.0/h.dt\n",
    "data.recordDend = False"
   ]
  },
  {
   "cell_type": "markdown",
   "metadata": {},
   "source": [
    "# Generate synapse location"
   ]
  },
  {
   "cell_type": "code",
   "execution_count": 20,
   "metadata": {},
   "outputs": [
    {
     "name": "stdout",
     "output_type": "stream",
     "text": [
      "number of excitatory synapses: 629\n",
      "number of somatic synapses: 1\n",
      "number of inhibitory synapses: 120\n",
      "AMPA synapses added\n",
      "dExp NMDA synapses generated\n",
      "inhibitory synapses generated\n"
     ]
    }
   ],
   "source": [
    "# Elocs: synapse locations - list, with elements [dendrite number, synapse location]\n",
    "data.Elocs = genAllLocs(10) # distance between synapses\n",
    "print('number of excitatory synapses:', len(data.Elocs))\n",
    "\n",
    "# inhibitory synapses - some are on the soma, others on the dendrites\n",
    "#data.nIter = len(data.rateE) \n",
    "if (data.stimType == \"allDend\") :\n",
    " \t# Nsomas = [420, 100, 100, 100, 420, 420, 420] # looks that this used to be 420 420 420 100 100 100\n",
    " \tNsomas = [420, 420, 420, 100, 100, 100] # looks that this used to be 420 420 420 100 100 100\n",
    " \tnsyn_soma = Nsomas[data.ind_Rates]\n",
    "else :\n",
    "\tnsyn_soma = 1\t\n",
    "if data.GABA:\n",
    "    Isomalocs = []\n",
    "    for p in np.arange(0,nsyn_soma):\n",
    "        Isomalocs.append([-1, 0.5])# -1 is not an index - it means that the synapse is at the soma\n",
    "    Idendlocs = genAllLocs(100)\n",
    "    data.Ilocs = Isomalocs + Idendlocs\n",
    " #   data.Ilocs = Isomalocs\n",
    "    print('number of somatic synapses:', nsyn_soma)\n",
    "    print('number of inhibitory synapses:', len(data.Ilocs))\n",
    "\n",
    "\n",
    "#########################################################################\n",
    "## number of synapses in a given cluster\n",
    "## Ensyn: list with the number of E synapses in a particular cluster\n",
    "## must sum to len(data.Elocs)\n",
    "maxClusts = [100.,100.,100., 100., 4., 1.]\n",
    "maxClust = maxClusts[iclust] # maximum number of synapses / cluster; 1-4-100\n",
    "nsyn_tree = np.empty((0, 2))\n",
    "elocs = np.asarray(data.Elocs)\n",
    "for ibranch in np.arange(max(elocs[:,0])+1):\n",
    "\tnsyn_branch = float(sum(elocs[:,0] == ibranch))\n",
    "\tnclust_branch = int(np.ceil(nsyn_branch / maxClust))\n",
    "\tsyn_branch = np.ones((nclust_branch, 2)) * maxClust\n",
    "\tif ((nsyn_branch % maxClust) > 0) :\n",
    "\t\tsyn_branch[nclust_branch-1, 1] = nsyn_branch % maxClust\n",
    "\tsyn_branch[:,0] = ibranch\n",
    "\tnsyn_tree = np.vstack((nsyn_tree, syn_branch))\n",
    "\n",
    "data.Ensyn = list(nsyn_tree[:,1])\n",
    "data.Insyn = [nsyn_soma, 11,11, 9,6,8,5,8, 12,11,13,6, 11,8] # use this if stimType == the orientation or allDend\n",
    "\n",
    "# data.Ensyn = [48,58, 52,34,45,38,44, 68,50,62,31, 60,39] # 629 - use this if stimType == orientations or mixedori\n",
    "\n",
    "## Insyn: number of I synapses in a given cluster\n",
    "## must sum to len(data.Ilocs)\n",
    "## otherwise its structure doesn't matter, since I synapses are not clustered\n",
    "\n",
    "# data.Insyn = [120, 119] # 239 - used to use this for allDend\n",
    "\n",
    "if (iclust == 0): \n",
    "\tdata.Ensyn = [629] # 629 - one cluster\n",
    "\tdata.Insyn = [nsyn_soma, 119] # 119\n",
    "\n",
    "if (iclust == 1): \n",
    "\tdata.Ensyn = [106, 213, 211, 99] # 629 - four clusters\n",
    "\tdata.Insyn = [nsyn_soma, 22, 36, 42, 19] # \n",
    "\n",
    "if (iclust == 2): \n",
    "    data.Ensyn = [48,58, 52,34,45,38,44, 68,50,62,31, 60,39]\n",
    "    data.Insyn = [nsyn_soma, 11,11, 9,6,8,5,8, 12,11,13,6, 11,8] # 239\n",
    "\n",
    "#nClust=len(data.Ensyn)\n",
    "#import cell_save as cs\n",
    "#cs.save_syn(data, outdir=\"AllDend/passive\", clust=nClust)\n",
    "\n",
    "#######################################################################################\n",
    "## which dendrites to use - if not All!\n",
    "data.locDend = [11, 24, 70, 95] # 1dend: 11; 4dend: 11 - g2, 24 - g3, 70 - g10, 95 - g12\n",
    "# best for stimulation - terminal dendrites with diameter  < 1 um\n",
    "# 11 - dend1_1212 L = 121um, d = 0.6 um\n",
    "# 24 - dend2_1122 L = 129um, d = 0.6 um\n",
    "# 70 - dend3_12122221 L = 231um, d = 0.75 um\n",
    "# 95 - dend4_1121 L = 137um, d = 0.5 um\n",
    "\n",
    "## which dendrites to record from\n",
    "data.locDendRec = [11, 24, 70, 95] \n",
    "# best for recording - non-terminal apical branches, 100 um from soma, diam > 1 um\n",
    "# 38 - dend2_1212[0.5] L = 140 um, d=1.1 um, dist ~ 157 um\n",
    "# 47 - dend2_1222[0.5] L=150, d=1.1, dist ~ 157 um\n",
    "# 69 - dend3_1212222[0.5] L=47, d=1.4, dist ~ 135 um\n",
    "# 70 - dend3_12122221[0.5] L = 231um, d = 0.75 um\n",
    "# mainAll.model.dends[11].name()\n",
    "# mainAll.lb.h.topology()\n",
    "\n",
    "# np.random.shuffle(data.Elocs)\n",
    "\n",
    "# Insert synapses\n",
    "add_AMPAsyns(model, locs=data.Elocs, gmax=data.ApN * data.Egmax, NoSynDends=noSynDend)\n",
    "if (data.NMDAkinetic):\n",
    "    add_NMDAkin_syns(model, locs=data.Elocs, gmax=data.Egmax, NoSynDends=noSynDend)\n",
    "else:\n",
    "\tif (data.NMDA):\n",
    "\t    add_NMDAsyns(model, locs=data.Elocs, gmax=data.Egmax, NoSynDends=noSynDend)\n",
    "\telse:\n",
    "\t    add_NMDAsyns(model, locs=data.Elocs, gmax=0, NoSynDends=noSynDend)\n",
    "add_GABAsyns(model, locs=data.Ilocs, gmax=data.Igmax, rev=data.Irev, NoSynDends=noSynDend)"
   ]
  },
  {
   "cell_type": "code",
   "execution_count": 21,
   "metadata": {},
   "outputs": [
    {
     "data": {
      "text/plain": [
       "[48, 58, 52, 34, 45, 38, 44, 68, 50, 62, 31, 60, 39]"
      ]
     },
     "execution_count": 21,
     "metadata": {},
     "output_type": "execute_result"
    }
   ],
   "source": [
    "data.Ensyn"
   ]
  },
  {
   "cell_type": "code",
   "execution_count": 22,
   "metadata": {},
   "outputs": [
    {
     "data": {
      "text/plain": [
       "[<matplotlib.lines.Line2D at 0x7feba24f8ed0>]"
      ]
     },
     "execution_count": 22,
     "metadata": {},
     "output_type": "execute_result"
    },
    {
     "data": {
      "image/png": "[encoded data removed]",
      "text/plain": [
       "<Figure size 432x288 with 1 Axes>"
      ]
     },
     "metadata": {
      "needs_background": "light"
     },
     "output_type": "display_data"
    }
   ],
   "source": [
    "trec, vrec = h.Vector(), h.Vector()\n",
    "trec.record(h._ref_t)\n",
    "vrec.record(model.soma(0.5)._ref_v)\n",
    "h.celsius = model.CELSIUS\n",
    "h.finitialize(model.E_PAS)\n",
    "t_stop = 100\n",
    "neuron.run(t_stop)\n",
    "plt.plot(trec, vrec)"
   ]
  },
  {
   "cell_type": "markdown",
   "metadata": {},
   "source": [
    "# Run simulation"
   ]
  },
  {
   "cell_type": "code",
   "execution_count": 23,
   "metadata": {},
   "outputs": [
    {
     "name": "stdout",
     "output_type": "stream",
     "text": [
      "simulation type:  allDend\n",
      "the neuron is passive, all branches are stimulated\n"
     ]
    }
   ],
   "source": [
    "print('simulation type: ', data.simType)\n",
    "if (data.ACTIVE == True):\n",
    "    if (data.ACTIVEdend == True) :\n",
    "        print('dendrites are active, all branches are stimulated')\n",
    "    else :\n",
    "        print('the soma is active, all branches are stimulated')\n",
    "else :\n",
    "    print('the neuron is passive, all branches are stimulated')"
   ]
  },
  {
   "cell_type": "code",
   "execution_count": 24,
   "metadata": {},
   "outputs": [
    {
     "name": "stdout",
     "output_type": "stream",
     "text": [
      "simulation type:  allDend\n",
      "the neuron is passive, all branches are stimulated\n",
      "Running E bg. rate 5 I bg. rate 20 E rate 20 I rate 30 iteration: 0\n",
      "all of the dendrites are stimulated\n",
      "7796 E and  22468 I spikes read from file\n",
      "Running E bg. rate 5 I bg. rate 20 E rate 20 I rate 30 iteration: 1\n",
      "all of the dendrites are stimulated\n",
      "7805 E and  22403 I spikes read from file\n"
     ]
    }
   ],
   "source": [
    "print('simulation type: ', data.simType)\n",
    "if (data.ACTIVE == True):\n",
    "    if (data.ACTIVEdend == True) :\n",
    "        print('dendrites are active, all branches are stimulated')\n",
    "    else :\n",
    "        print('the soma is active, all branches are stimulated')\n",
    "else :\n",
    "    print('the neuron is passive, all branches are stimulated')\n",
    "if (data.stimType == \"allDend\") :\n",
    "    SIM_balanceIteration(data.EIrates)\n",
    "elif (data.stimType == \"orientations\"):\n",
    "    SIM_oriIteration(data.EIrates)\n",
    "elif (data.stimType == \"mixedori\"):\n",
    "    SIM_mixedoriIteration(data.EIrates)\n",
    "elif (data.stimType == \"minis\"):\n",
    "\tSIM_minisDistribution(data)\n"
   ]
  },
  {
   "cell_type": "markdown",
   "metadata": {},
   "source": [
    "# Data process"
   ]
  },
  {
   "cell_type": "code",
   "execution_count": 25,
   "metadata": {},
   "outputs": [
    {
     "name": "stdout",
     "output_type": "stream",
     "text": [
      "plotting traces ...\n"
     ]
    },
    {
     "data": {
      "image/png": "[encoded data removed]",
      "text/plain": [
       "<Figure size 1152x576 with 4 Axes>"
      ]
     },
     "metadata": {
      "needs_background": "light"
     },
     "output_type": "display_data"
    },
    {
     "name": "stdout",
     "output_type": "stream",
     "text": [
      "saving data ...\n",
      "plotting the cell with the synapses ...\n",
      "number of synapses: 749\n",
      "nrn_define_shape: soma first and last 3-d point at same (x,y)\n"
     ]
    },
    {
     "data": {
      "image/png": "[encoded data removed]",
      "text/plain": [
       "<Figure size 432x288 with 1 Axes>"
      ]
     },
     "metadata": {
      "needs_background": "light"
     },
     "output_type": "display_data"
    }
   ],
   "source": [
    "#----------------------------------------------------------------------------\n",
    "# show the traces\n",
    "\n",
    "if data.SHOWTRACES:\n",
    "    print('plotting traces ...')\n",
    "    import cell_traces as ct\n",
    "    if (data.stimType == 'minis'):\n",
    "        ct.plotTraces(data, data.TSTOP * 1000)\n",
    "    else :\n",
    "        ct.plotResp(data, data.TSTOP * 1000)\n",
    "\n",
    "\n",
    "#----------------------------------------------------------------------------\n",
    "# Save data - number of clusters are encoded in the locBias parameter\n",
    "data.locBias = str(len(data.Ensyn))\n",
    "if (len(data.Ensyn) < 10 ):\n",
    "   data.locBias = '0' + data.locBias\n",
    "\n",
    "if data.SAVE:\n",
    "    print('saving data ...')\n",
    "    if (data.stimType == \"allDend\") :\n",
    "       outdir = data.simType + '/' + data.actType\n",
    "    else:\n",
    "       outdir = data.simType + '/' + data.stimType\n",
    "\n",
    "    import cell_save as cs\n",
    "    cs.save_sim(data, out_binary=False, out_vdend=True, out_pickle=True, \n",
    "    \t\t\toutdir=outdir, rate=data.ind_Rates, omega=iomega, iAMP=data.iAmp)\n",
    "\n",
    "#----------------------------------------------------------------------------\n",
    "# show the synapses\n",
    "\n",
    "if data.SHOWSYNS:\n",
    "    print('plotting the cell with the synapses ...')\n",
    "    import cell_draw as cd\n",
    "    if (data.simType=='nsyn') :\n",
    "        cd.plot_syns(data, model, False)\n",
    "    else : \n",
    "        cd.plot_syns(data, model, True)\n"
   ]
  },
  {
   "cell_type": "code",
   "execution_count": 26,
   "metadata": {},
   "outputs": [],
   "source": [
    "v = data.vdata"
   ]
  },
  {
   "cell_type": "code",
   "execution_count": 40,
   "metadata": {},
   "outputs": [
    {
     "data": {
      "image/png": "[encoded data removed]",
      "text/plain": [
       "<Figure size 576x288 with 1 Axes>"
      ]
     },
     "metadata": {
      "needs_background": "light"
     },
     "output_type": "display_data"
    }
   ],
   "source": [
    "t = np.linspace(0, 2000, 2001)\n",
    "plt.figure(figsize=(8,4))\n",
    "plt.plot(t, v[1][::5])\n",
    "plt.xlabel('t(ms)')\n",
    "plt.ylabel('MP(mV)')\n",
    "plt.savefig('figure/trace', bbox_inches='tight')"
   ]
  },
  {
   "cell_type": "code",
   "execution_count": 4,
   "metadata": {},
   "outputs": [
    {
     "ename": "AttributeError",
     "evalue": "Can't get attribute 'emptyObject' on <module '__main__'>",
     "output_type": "error",
     "traceback": [
      "\u001b[0;31m---------------------------------------------------------------------------\u001b[0m",
      "\u001b[0;31mAttributeError\u001b[0m                            Traceback (most recent call last)",
      "Cell \u001b[0;32mIn[4], line 2\u001b[0m\n\u001b[1;32m      1\u001b[0m \u001b[39mwith\u001b[39;00m \u001b[39mopen\u001b[39m(\u001b[39m'\u001b[39m\u001b[39mallDend/mixedori/NMDA_ApN0.5_13_Adend_r0_o2_i2_g_b0.pkl\u001b[39m\u001b[39m'\u001b[39m, \u001b[39m'\u001b[39m\u001b[39mrb\u001b[39m\u001b[39m'\u001b[39m) \u001b[39mas\u001b[39;00m fo:\n\u001b[0;32m----> 2\u001b[0m         X_train \u001b[39m=\u001b[39m pickle\u001b[39m.\u001b[39;49mload(fo, encoding\u001b[39m=\u001b[39;49m\u001b[39m'\u001b[39;49m\u001b[39mbytes\u001b[39;49m\u001b[39m'\u001b[39;49m)\n",
      "\u001b[0;31mAttributeError\u001b[0m: Can't get attribute 'emptyObject' on <module '__main__'>"
     ]
    }
   ],
   "source": [
    "with open('allDend/mixedori/NMDA_ApN0.5_13_Adend_r0_o2_i2_g_b0.pkl', 'rb') as fo:\n",
    "        X_train = pickle.load(fo, encoding='bytes')"
   ]
  },
  {
   "cell_type": "code",
   "execution_count": 97,
   "metadata": {},
   "outputs": [],
   "source": [
    "stim = data.stim\n",
    "etimes = data.etimes"
   ]
  },
  {
   "cell_type": "code",
   "execution_count": 85,
   "metadata": {},
   "outputs": [
    {
     "data": {
      "text/plain": [
       "644"
      ]
     },
     "execution_count": 85,
     "metadata": {},
     "output_type": "execute_result"
    }
   ],
   "source": [
    "len(data.Elocs)"
   ]
  },
  {
   "cell_type": "code",
   "execution_count": 34,
   "metadata": {},
   "outputs": [],
   "source": [
    "def spike_time2spike_train(data):\n",
    "    nReps = len(data.vdata)\n",
    "    time_dur = len(data.vdata[0])\n",
    "    Nsyn_e = 629\n",
    "    Nsyn_i = 120\n",
    "    spike_train = np.zeros((nReps, Nsyn_e+Nsyn_i, time_dur))\n",
    "    for i in range(nReps):\n",
    "        ind_etimes = (data.stim[:,0] == i + 1)\n",
    "        etimes = np.array(data.stim[ind_etimes,:])\n",
    "        etimes = etimes[:,(1,2)]\n",
    "        for j in range(len(etimes)):\n",
    "            spike_train[i, int(etimes[j, 0]), int(etimes[j, 1] * 5)] = 1\n",
    "\n",
    "        ind_itimes = (data.stim[:,0] == -1 * i - 1)\n",
    "        itimes = np.array(data.stim[ind_itimes,:])\n",
    "        itimes = itimes[:,(1,2)]\n",
    "        for j in range(len(itimes)):\n",
    "            spike_train[i, int(itimes[j, 0]) + Nsyn_e, int(itimes[j, 1] * 5)] = 1\n",
    "    return spike_train"
   ]
  },
  {
   "cell_type": "code",
   "execution_count": 35,
   "metadata": {},
   "outputs": [],
   "source": [
    "x = spike_time2spike_train(data)"
   ]
  },
  {
   "cell_type": "code",
   "execution_count": 36,
   "metadata": {},
   "outputs": [
    {
     "data": {
      "text/plain": [
       "(749, 10002)"
      ]
     },
     "execution_count": 36,
     "metadata": {},
     "output_type": "execute_result"
    }
   ],
   "source": [
    "x[0].shape"
   ]
  },
  {
   "cell_type": "code",
   "execution_count": 38,
   "metadata": {},
   "outputs": [
    {
     "data": {
      "text/plain": [
       "7794.0"
      ]
     },
     "execution_count": 38,
     "metadata": {},
     "output_type": "execute_result"
    }
   ],
   "source": [
    "np.sum(x[1,:629])"
   ]
  },
  {
   "cell_type": "code",
   "execution_count": 93,
   "metadata": {},
   "outputs": [
    {
     "data": {
      "text/plain": [
       "1.0"
      ]
     },
     "execution_count": 93,
     "metadata": {},
     "output_type": "execute_result"
    }
   ],
   "source": [
    "max(x[0, 629])"
   ]
  },
  {
   "cell_type": "code",
   "execution_count": 91,
   "metadata": {},
   "outputs": [
    {
     "data": {
      "text/plain": [
       "<matplotlib.lines.Line2D at 0x7f11e1d4ad50>"
      ]
     },
     "execution_count": 91,
     "metadata": {},
     "output_type": "execute_result"
    },
    {
     "data": {
      "image/png": "[encoded data removed]",
      "text/plain": [
       "<Figure size 432x288 with 1 Axes>"
      ]
     },
     "metadata": {
      "needs_background": "light"
     },
     "output_type": "display_data"
    }
   ],
   "source": [
    "plt.plot(x[0, 629])\n",
    "plt.axvline(x=455)"
   ]
  }
 ],
 "metadata": {
  "kernelspec": {
   "display_name": "Python 3",
   "language": "python",
   "name": "python3"
  },
  "language_info": {
   "codemirror_mode": {
    "name": "ipython",
    "version": 3
   },
   "file_extension": ".py",
   "mimetype": "text/x-python",
   "name": "python",
   "nbconvert_exporter": "python",
   "pygments_lexer": "ipython3",
   "version": "3.9.16"
  },
  "orig_nbformat": 4,
  "vscode": {
   "interpreter": {
    "hash": "31f2aee4e71d21fbe5cf8b01ff0e069b9275f58929596ceb00d14d90e3e16cd6"
   }
  }
 },
 "nbformat": 4,
 "nbformat_minor": 2
}
